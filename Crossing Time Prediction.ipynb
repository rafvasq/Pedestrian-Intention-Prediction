{
 "cells": [
  {
   "cell_type": "code",
   "execution_count": 1,
   "metadata": {},
   "outputs": [
    {
     "data": {
      "text/plain": [
       "'0.24.2'"
      ]
     },
     "execution_count": 1,
     "metadata": {},
     "output_type": "execute_result"
    }
   ],
   "source": [
    "%matplotlib inline\n",
    "\n",
    "import pickle\n",
    "import pandas as pd\n",
    "import numpy as np\n",
    "import os\n",
    "import matplotlib.mlab as mlab\n",
    "import matplotlib.pyplot as plt\n",
    "\n",
    "from sklearn import metrics \n",
    "from sklearn.ensemble import RandomForestRegressor\n",
    "from sklearn.tree import DecisionTreeRegressor\n",
    "from sklearn.metrics import mean_squared_error\n",
    "from sklearn.model_selection import cross_val_score, train_test_split\n",
    "from sklearn.model_selection import RandomizedSearchCV, GridSearchCV\n",
    "\n",
    "dataPath = '../PedestrianData/IntentionData'\n",
    "pd.__version__"
   ]
  },
  {
   "cell_type": "markdown",
   "metadata": {},
   "source": [
    "#### Loading the demographic and environmental data from pickle:"
   ]
  },
  {
   "cell_type": "code",
   "execution_count": 2,
   "metadata": {},
   "outputs": [
    {
     "data": {
      "text/html": [
       "<div>\n",
       "<style scoped>\n",
       "    .dataframe tbody tr th:only-of-type {\n",
       "        vertical-align: middle;\n",
       "    }\n",
       "\n",
       "    .dataframe tbody tr th {\n",
       "        vertical-align: top;\n",
       "    }\n",
       "\n",
       "    .dataframe thead th {\n",
       "        text-align: right;\n",
       "    }\n",
       "</style>\n",
       "<table border=\"1\" class=\"dataframe\">\n",
       "  <thead>\n",
       "    <tr style=\"text-align: right;\">\n",
       "      <th></th>\n",
       "      <th>File</th>\n",
       "      <th>Scenario</th>\n",
       "      <th>Wait Time (s)</th>\n",
       "      <th>PET (s)</th>\n",
       "      <th>Distace to Collision Point</th>\n",
       "      <th>Card ID</th>\n",
       "      <th>Speed Limit</th>\n",
       "      <th>Lane Width</th>\n",
       "      <th>Minimum Gap</th>\n",
       "      <th>Mean Arrival Rate</th>\n",
       "      <th>AV</th>\n",
       "      <th>Full Braking Before Impact_-1.0</th>\n",
       "      <th>Full Braking Before Impact_1</th>\n",
       "      <th>Full Braking Before Impact_2</th>\n",
       "      <th>Full Braking Before Impact_3</th>\n",
       "      <th>Snowy</th>\n",
       "      <th>One way</th>\n",
       "      <th>two way</th>\n",
       "      <th>Two way with median</th>\n",
       "      <th>Night</th>\n",
       "      <th>name</th>\n",
       "      <th>numcars</th>\n",
       "      <th>Vrexpnum</th>\n",
       "      <th>Age_9-12</th>\n",
       "      <th>Age_15-18</th>\n",
       "      <th>Age_12-15</th>\n",
       "      <th>Age_18 - 24</th>\n",
       "      <th>Age_25 - 29</th>\n",
       "      <th>Age_30 - 39</th>\n",
       "      <th>Age_40 - 49</th>\n",
       "      <th>Age_50 - 59</th>\n",
       "      <th>Age_60+</th>\n",
       "      <th>Gender_Female</th>\n",
       "      <th>Occupation_Employed</th>\n",
       "      <th>Occupation_Student</th>\n",
       "      <th>Occupation_Unemployed</th>\n",
       "      <th>Occupation_kid</th>\n",
       "      <th>Education_Bachelors degree</th>\n",
       "      <th>Education_College/University student</th>\n",
       "      <th>Education_Doctorate degree</th>\n",
       "      <th>Education_High school diploma</th>\n",
       "      <th>Education_Masters degree</th>\n",
       "      <th>Education_Professional degree</th>\n",
       "      <th>driving license_Yes</th>\n",
       "      <th>mode_Bike</th>\n",
       "      <th>mode_Car</th>\n",
       "      <th>mode_Public Transit</th>\n",
       "      <th>mode_Walking</th>\n",
       "      <th>workwalk_No</th>\n",
       "      <th>workwalk_Sometimes</th>\n",
       "      <th>workwalk_Yes</th>\n",
       "      <th>shopwalk_No</th>\n",
       "      <th>shopwalk_Sometimes</th>\n",
       "      <th>shopwalk_Yes</th>\n",
       "      <th>shopwalk_kid</th>\n",
       "      <th>Vrexp_Yes</th>\n",
       "      <th>Heart_Currently</th>\n",
       "      <th>Heart_Over the years</th>\n",
       "      <th>vision_Currently</th>\n",
       "      <th>vision_Over the years</th>\n",
       "      <th>anxiety_Currently</th>\n",
       "      <th>anxiety_Over the years</th>\n",
       "      <th>Headaches_Currently</th>\n",
       "      <th>Headaches_Over the years</th>\n",
       "      <th>dizziness_Over the years</th>\n",
       "    </tr>\n",
       "  </thead>\n",
       "  <tbody>\n",
       "    <tr>\n",
       "      <th>3228</th>\n",
       "      <td>shabari/16--2018-09-5--17-21-20.txt</td>\n",
       "      <td>16</td>\n",
       "      <td>12.3835</td>\n",
       "      <td>1000</td>\n",
       "      <td>7.4</td>\n",
       "      <td>16</td>\n",
       "      <td>40</td>\n",
       "      <td>3</td>\n",
       "      <td>1.5</td>\n",
       "      <td>530</td>\n",
       "      <td>100</td>\n",
       "      <td>0</td>\n",
       "      <td>0</td>\n",
       "      <td>1</td>\n",
       "      <td>0</td>\n",
       "      <td>1</td>\n",
       "      <td>1</td>\n",
       "      <td>0</td>\n",
       "      <td>0</td>\n",
       "      <td>0</td>\n",
       "      <td>shabari</td>\n",
       "      <td>2</td>\n",
       "      <td>NaN</td>\n",
       "      <td>0</td>\n",
       "      <td>0</td>\n",
       "      <td>0</td>\n",
       "      <td>1</td>\n",
       "      <td>0</td>\n",
       "      <td>0</td>\n",
       "      <td>0</td>\n",
       "      <td>0</td>\n",
       "      <td>0</td>\n",
       "      <td>1</td>\n",
       "      <td>0</td>\n",
       "      <td>1</td>\n",
       "      <td>0</td>\n",
       "      <td>0</td>\n",
       "      <td>0</td>\n",
       "      <td>0</td>\n",
       "      <td>0</td>\n",
       "      <td>0</td>\n",
       "      <td>1</td>\n",
       "      <td>0</td>\n",
       "      <td>1</td>\n",
       "      <td>0</td>\n",
       "      <td>0</td>\n",
       "      <td>1</td>\n",
       "      <td>0</td>\n",
       "      <td>0</td>\n",
       "      <td>1</td>\n",
       "      <td>0</td>\n",
       "      <td>0</td>\n",
       "      <td>0</td>\n",
       "      <td>1</td>\n",
       "      <td>0</td>\n",
       "      <td>0</td>\n",
       "      <td>0</td>\n",
       "      <td>0</td>\n",
       "      <td>0</td>\n",
       "      <td>0</td>\n",
       "      <td>0</td>\n",
       "      <td>0</td>\n",
       "      <td>0</td>\n",
       "      <td>1</td>\n",
       "      <td>0</td>\n",
       "    </tr>\n",
       "  </tbody>\n",
       "</table>\n",
       "</div>"
      ],
      "text/plain": [
       "                                     File Scenario Wait Time (s) PET (s)  \\\n",
       "3228  shabari/16--2018-09-5--17-21-20.txt       16       12.3835    1000   \n",
       "\n",
       "     Distace to Collision Point Card ID Speed Limit Lane Width Minimum Gap  \\\n",
       "3228                        7.4      16          40          3         1.5   \n",
       "\n",
       "     Mean Arrival Rate   AV Full Braking Before Impact_-1.0  \\\n",
       "3228               530  100                               0   \n",
       "\n",
       "     Full Braking Before Impact_1 Full Braking Before Impact_2  \\\n",
       "3228                            0                            1   \n",
       "\n",
       "     Full Braking Before Impact_3 Snowy One way two way Two way with median  \\\n",
       "3228                            0     1       1       0                   0   \n",
       "\n",
       "     Night     name numcars Vrexpnum Age_9-12 Age_15-18 Age_12-15 Age_18 - 24  \\\n",
       "3228     0  shabari       2      NaN        0         0         0           1   \n",
       "\n",
       "     Age_25 - 29 Age_30 - 39 Age_40 - 49 Age_50 - 59 Age_60+ Gender_Female  \\\n",
       "3228           0           0           0           0       0             1   \n",
       "\n",
       "     Occupation_Employed Occupation_Student Occupation_Unemployed  \\\n",
       "3228                   0                  1                     0   \n",
       "\n",
       "     Occupation_kid Education_Bachelors degree  \\\n",
       "3228              0                          0   \n",
       "\n",
       "     Education_College/University student Education_Doctorate degree  \\\n",
       "3228                                    0                          0   \n",
       "\n",
       "     Education_High school diploma Education_Masters degree  \\\n",
       "3228                             0                        1   \n",
       "\n",
       "     Education_Professional degree driving license_Yes mode_Bike mode_Car  \\\n",
       "3228                             0                   1         0        0   \n",
       "\n",
       "     mode_Public Transit mode_Walking workwalk_No workwalk_Sometimes  \\\n",
       "3228                   1            0           0                  1   \n",
       "\n",
       "     workwalk_Yes shopwalk_No shopwalk_Sometimes shopwalk_Yes shopwalk_kid  \\\n",
       "3228            0           0                  0            1            0   \n",
       "\n",
       "     Vrexp_Yes Heart_Currently Heart_Over the years vision_Currently  \\\n",
       "3228         0               0                    0                0   \n",
       "\n",
       "     vision_Over the years anxiety_Currently anxiety_Over the years  \\\n",
       "3228                     0                 0                      0   \n",
       "\n",
       "     Headaches_Currently Headaches_Over the years dizziness_Over the years  \n",
       "3228                   0                        1                        0  "
      ]
     },
     "execution_count": 2,
     "metadata": {},
     "output_type": "execute_result"
    }
   ],
   "source": [
    "data = pd.read_pickle('../PedestrianData/Rafael.pkl')\n",
    "pd.options.display.max_columns = None\n",
    "data.sample(1)"
   ]
  },
  {
   "cell_type": "markdown",
   "metadata": {},
   "source": [
    "#### Removing folder names from file values (some files are in subfolders)\n",
    "#### Cleasing data that contain errors"
   ]
  },
  {
   "cell_type": "code",
   "execution_count": 3,
   "metadata": {},
   "outputs": [
    {
     "data": {
      "text/plain": [
       "(3410, 65)"
      ]
     },
     "execution_count": 3,
     "metadata": {},
     "output_type": "execute_result"
    }
   ],
   "source": [
    "for i in range(len(data)):\n",
    "    value = data['File'].values[i].split('/')\n",
    "    data['File'].values[i] = value[len(value) - 1]\n",
    "    data['Wait Time (s)'] == \"Err2\"\n",
    "    \n",
    "data = data[data['Wait Time (s)'] != \"Err1\"]\n",
    "data = data[data['Wait Time (s)'] != \"Err2\"]\n",
    "data = data[data['Wait Time (s)'] != \"Err3\"]\n",
    "data = data[data['Wait Time (s)'] != \"Err4\"]\n",
    "data = data[data['Wait Time (s)'] != \"Err5\"]\n",
    "data = data[data['Wait Time (s)'] != 0]\n",
    "    \n",
    "data.shape"
   ]
  },
  {
   "cell_type": "markdown",
   "metadata": {},
   "source": [
    "## Curating final set of possible features"
   ]
  },
  {
   "cell_type": "code",
   "execution_count": 4,
   "metadata": {},
   "outputs": [],
   "source": [
    "files = os.listdir(dataPath)\n",
    "\n",
    "features = np.empty((len(files), 22), dtype=list)\n",
    "\n",
    "for i in range(len(files)):\n",
    "    file = dataPath + \"/\" + files[i]\n",
    "    df = pd.read_csv(file, sep=\",\", header=None, \n",
    "                 names=[\"Time\", \n",
    "                        \"Pos_x\", \"Pos_y\", \"Pos_z\", \n",
    "                        \"Gaz_x\", \"Gaz_y\", \"Gaz_z\", \n",
    "                        \"Vel_x\", \"Vel_z\",\n",
    "                        \"Acc_x\", \"Acc_z\",\n",
    "                        \"Vel_Mag\", \"Acc_Mag\",\n",
    "                        \"Vel_Ang\", \"Acc_Ang\", \"Gaz_Ang\",\n",
    "                        \"Vel_Bin\", \"Acc_Bin\", \"Gaz_Bin\", \"Chg_Bin\"          \n",
    "                       ])\n",
    "    \n",
    "    try:\n",
    "        features[i, 0] = (data.loc[data['File'] == files[i]])[\"Wait Time (s)\"].item()\n",
    "        features[i, 1] = (data.loc[data['File'] == files[i]])[\"Lane Width\"].item()\n",
    "        features[i, 2] = (data.loc[data['File'] == files[i]])[\"One way\"].item()\n",
    "        features[i, 3] = (data.loc[data['File'] == files[i]])[\"Snowy\"].item()\n",
    "        features[i, 4] = (data.loc[data['File'] == files[i]])[\"Night\"].item()\n",
    "        features[i, 5] = (data.loc[data['File'] == files[i]])[\"Speed Limit\"].item()\n",
    "        features[i, 6] = (data.loc[data['File'] == files[i]])[\"Mean Arrival Rate\"].item()\n",
    "    except:\n",
    "        features[i, 0] = 0\n",
    "        features[i, 1] = 0\n",
    "        features[i, 2] = 0\n",
    "        features[i, 3] = 0\n",
    "        features[i, 4] = 0\n",
    "        features[i, 5] = 0\n",
    "        features[i, 6] = 0\n",
    "    finally:\n",
    "        # Filling the rest of the features with each direction bin\n",
    "        gaze_bins = np.histogram(np.array(df[\"Gaz_Bin\"]), bins=[1, 2, 3, 4, 5, 6, 7, 8], density=False)[0]\n",
    "        change_bins = np.histogram(np.array(df[\"Chg_Bin\"]), bins=[1, 2, 3, 4, 5, 6, 7, 8], density=False)[0]\n",
    "        for j in range(len(gaze_bins)):\n",
    "            features[i, j+7] = gaze_bins[j]\n",
    "        for k in range(len(change_bins)):\n",
    "            features[i, k+j+7] = change_bins[k]\n",
    "            \n",
    "# Removing data with crossing time of '0'\n",
    "features = features[features[:, 0] != 0]"
   ]
  },
  {
   "cell_type": "code",
   "execution_count": 14,
   "metadata": {},
   "outputs": [
    {
     "data": {
      "text/plain": [
       "array([[11.39143, 2.75, 0.0, ..., 1, None, None],\n",
       "       [14.03475, 2.75, 0.0, ..., 0, None, None],\n",
       "       [14.8416, 2.75, 0.0, ..., 4, None, None],\n",
       "       ...,\n",
       "       [8.032308, 2.75, 0.0, ..., 9, None, None],\n",
       "       [9.176275, 2.75, 0.0, ..., 2, None, None],\n",
       "       [11.65396, 2.75, 0.0, ..., 5, None, None]], dtype=object)"
      ]
     },
     "execution_count": 14,
     "metadata": {},
     "output_type": "execute_result"
    }
   ],
   "source": [
    "features "
   ]
  },
  {
   "cell_type": "markdown",
   "metadata": {},
   "source": [
    "# Testing regression models"
   ]
  },
  {
   "cell_type": "code",
   "execution_count": 12,
   "metadata": {},
   "outputs": [],
   "source": [
    "def getData(N):\n",
    "    x,y =[],[]\n",
    "    for i in range(N):\n",
    "        c = [\n",
    "            \n",
    "            features[i,1], # Lane width (2, 2.5, 3)\n",
    "            features[i,2], # One Way (0, 1)\n",
    "            features[i,3], # Snowy (0, 1)\n",
    "            features[i,4], # Night (0, 1)\n",
    "            features[i,5], # Speed Limit (30, 40, 50)\n",
    "            features[i,6], # Mean Arrival\n",
    "            # head pose bins\n",
    "            features[i,7], features[i,8], features[i,9], features[i,10], features[i,11], features[i,12], features[i,13], \n",
    "            # change pose bins\n",
    "            #features[i,14], features[i,15], features[i,16], features[i,17], features[i,18], features[i,19]\n",
    "            \n",
    "        ]\n",
    "        yy = features[i, 0]\n",
    "        x.append(c)\n",
    "        y.append(yy)\n",
    "    return np.array(x), np.array(y)\n",
    "\n",
    "def display_scores(scores):\n",
    "    print(\"Scores:\", scores)\n",
    "    print(\"Mean:\", scores.mean())\n",
    "    print(\"Standard deviation:\", scores.std())\n",
    "    \n",
    "def evaluate(model, X_test, y_test):\n",
    "    predictions = model.predict(X_test)\n",
    "    errors = abs(predictions - y_test)\n",
    "    mape = 100 * np.mean(errors / y_test)\n",
    "    accuracy = 100 - mape\n",
    "    print('Model Performance')\n",
    "    print('Average Error: {:0.4f} degrees.'.format(np.mean(errors)))\n",
    "    print('Accuracy = {:0.2f}%.'.format(accuracy))\n",
    "    \n",
    "    return accuracy\n",
    "\n",
    "def evaluate_mse(model, X_test, y_test):\n",
    "    predictions = model.predict(X_test)\n",
    "    errors = np.sqrt(mean_squared_error(y_test, predictions))\n",
    "    print('Model Performance')\n",
    "    print('MSE of: ', errors)\n",
    "    \n",
    "    return errors\n",
    "    \n",
    "X,y=getData(len(features))\n",
    "X_train, X_test, y_train, y_test = train_test_split(X, y, test_size=0.20, random_state=42)"
   ]
  },
  {
   "cell_type": "code",
   "execution_count": 13,
   "metadata": {},
   "outputs": [
    {
     "name": "stdout",
     "output_type": "stream",
     "text": [
      "(1174, 13)\n",
      "(1174,)\n"
     ]
    },
    {
     "data": {
      "text/plain": [
       "dtype('float64')"
      ]
     },
     "execution_count": 13,
     "metadata": {},
     "output_type": "execute_result"
    }
   ],
   "source": [
    "print(X_train.shape)\n",
    "print(y_train.shape)\n",
    "X_train.dtype"
   ]
  },
  {
   "cell_type": "code",
   "execution_count": 36,
   "metadata": {},
   "outputs": [
    {
     "name": "stdout",
     "output_type": "stream",
     "text": [
      "(1174, 13)\n",
      "(1174,)\n"
     ]
    },
    {
     "ename": "AttributeError",
     "evalue": "'float' object has no attribute 'dtype'",
     "output_type": "error",
     "traceback": [
      "\u001b[1;31m---------------------------------------------------------------------------\u001b[0m",
      "\u001b[1;31mAttributeError\u001b[0m                            Traceback (most recent call last)",
      "\u001b[1;32m<ipython-input-36-59ec30a12ced>\u001b[0m in \u001b[0;36m<module>\u001b[1;34m\u001b[0m\n\u001b[0;32m      2\u001b[0m \u001b[0mprint\u001b[0m\u001b[1;33m(\u001b[0m\u001b[0my_train\u001b[0m\u001b[1;33m.\u001b[0m\u001b[0mshape\u001b[0m\u001b[1;33m)\u001b[0m\u001b[1;33m\u001b[0m\u001b[1;33m\u001b[0m\u001b[0m\n\u001b[0;32m      3\u001b[0m \u001b[0mX_train\u001b[0m\u001b[1;33m.\u001b[0m\u001b[0mdtype\u001b[0m\u001b[1;33m\u001b[0m\u001b[1;33m\u001b[0m\u001b[0m\n\u001b[1;32m----> 4\u001b[1;33m \u001b[0mnp\u001b[0m\u001b[1;33m.\u001b[0m\u001b[0munique\u001b[0m\u001b[1;33m(\u001b[0m\u001b[1;33m[\u001b[0m\u001b[0mstr\u001b[0m\u001b[1;33m(\u001b[0m\u001b[0mdatum\u001b[0m\u001b[1;33m.\u001b[0m\u001b[0mdtype\u001b[0m\u001b[1;33m)\u001b[0m \u001b[1;32mfor\u001b[0m \u001b[0mdatum\u001b[0m \u001b[1;32min\u001b[0m \u001b[0mfeatures\u001b[0m\u001b[1;33m[\u001b[0m\u001b[1;33m:\u001b[0m\u001b[1;33m,\u001b[0m\u001b[1;36m1\u001b[0m\u001b[1;33m]\u001b[0m\u001b[1;33m]\u001b[0m\u001b[1;33m)\u001b[0m\u001b[1;33m\u001b[0m\u001b[1;33m\u001b[0m\u001b[0m\n\u001b[0m",
      "\u001b[1;32m<ipython-input-36-59ec30a12ced>\u001b[0m in \u001b[0;36m<listcomp>\u001b[1;34m(.0)\u001b[0m\n\u001b[0;32m      2\u001b[0m \u001b[0mprint\u001b[0m\u001b[1;33m(\u001b[0m\u001b[0my_train\u001b[0m\u001b[1;33m.\u001b[0m\u001b[0mshape\u001b[0m\u001b[1;33m)\u001b[0m\u001b[1;33m\u001b[0m\u001b[1;33m\u001b[0m\u001b[0m\n\u001b[0;32m      3\u001b[0m \u001b[0mX_train\u001b[0m\u001b[1;33m.\u001b[0m\u001b[0mdtype\u001b[0m\u001b[1;33m\u001b[0m\u001b[1;33m\u001b[0m\u001b[0m\n\u001b[1;32m----> 4\u001b[1;33m \u001b[0mnp\u001b[0m\u001b[1;33m.\u001b[0m\u001b[0munique\u001b[0m\u001b[1;33m(\u001b[0m\u001b[1;33m[\u001b[0m\u001b[0mstr\u001b[0m\u001b[1;33m(\u001b[0m\u001b[0mdatum\u001b[0m\u001b[1;33m.\u001b[0m\u001b[0mdtype\u001b[0m\u001b[1;33m)\u001b[0m \u001b[1;32mfor\u001b[0m \u001b[0mdatum\u001b[0m \u001b[1;32min\u001b[0m \u001b[0mfeatures\u001b[0m\u001b[1;33m[\u001b[0m\u001b[1;33m:\u001b[0m\u001b[1;33m,\u001b[0m\u001b[1;36m1\u001b[0m\u001b[1;33m]\u001b[0m\u001b[1;33m]\u001b[0m\u001b[1;33m)\u001b[0m\u001b[1;33m\u001b[0m\u001b[1;33m\u001b[0m\u001b[0m\n\u001b[0m",
      "\u001b[1;31mAttributeError\u001b[0m: 'float' object has no attribute 'dtype'"
     ]
    }
   ],
   "source": [
    "print(X_train.shape)\n",
    "print(y_train.shape)\n",
    "X_train.dtype\n",
    "np.unique([str(datum.dtype) for datum in features[:,1]])"
   ]
  },
  {
   "cell_type": "code",
   "execution_count": 28,
   "metadata": {
    "scrolled": false
   },
   "outputs": [
    {
     "name": "stdout",
     "output_type": "stream",
     "text": [
      "Fitting 5 folds for each of 100 candidates, totalling 500 fits\n"
     ]
    },
    {
     "name": "stderr",
     "output_type": "stream",
     "text": [
      "[Parallel(n_jobs=-1)]: Using backend LokyBackend with 12 concurrent workers.\n",
      "[Parallel(n_jobs=-1)]: Done  17 tasks      | elapsed:    6.5s\n",
      "[Parallel(n_jobs=-1)]: Done 138 tasks      | elapsed:   38.7s\n",
      "[Parallel(n_jobs=-1)]: Done 341 tasks      | elapsed:  1.5min\n",
      "[Parallel(n_jobs=-1)]: Done 500 out of 500 | elapsed:  2.1min finished\n",
      "C:\\Users\\Rafael\\Anaconda3\\lib\\site-packages\\sklearn\\model_selection\\_search.py:841: DeprecationWarning: The default of the `iid` parameter will change from True to False in version 0.22 and will be removed in 0.24. This will change numeric results when test-set sizes are unequal.\n",
      "  DeprecationWarning)\n"
     ]
    },
    {
     "data": {
      "text/plain": [
       "RandomizedSearchCV(cv=5, error_score='raise-deprecating',\n",
       "          estimator=RandomForestRegressor(bootstrap=True, criterion='mse', max_depth=None,\n",
       "           max_features='auto', max_leaf_nodes=None,\n",
       "           min_impurity_decrease=0.0, min_impurity_split=None,\n",
       "           min_samples_leaf=1, min_samples_split=2,\n",
       "           min_weight_fraction_leaf=0.0, n_estimators='warn', n_jobs=None,\n",
       "           oob_score=False, random_state=None, verbose=0, warm_start=False),\n",
       "          fit_params=None, iid='warn', n_iter=100, n_jobs=-1,\n",
       "          param_distributions={'n_estimators': [200, 400, 600, 800, 1000, 1200, 1400, 1600, 1800, 2000], 'max_features': ['auto', 'sqrt'], 'max_depth': [10, 20, 30, 40, 50, 60, 70, 80, 90, 100, 110, None], 'min_samples_split': [2, 5, 10], 'min_samples_leaf': [1, 2, 4], 'bootstrap': [True, False]},\n",
       "          pre_dispatch='2*n_jobs', random_state=None, refit=True,\n",
       "          return_train_score='warn', scoring=None, verbose=2)"
      ]
     },
     "execution_count": 28,
     "metadata": {},
     "output_type": "execute_result"
    }
   ],
   "source": [
    "# Number of trees in random forest\n",
    "n_estimators = [int(x) for x in np.linspace(start = 200, stop = 2000, num = 10)]\n",
    "# Number of features to consider at every split\n",
    "max_features = ['auto', 'sqrt']\n",
    "# Maximum number of levels in tree\n",
    "max_depth = [int(x) for x in np.linspace(10, 110, num = 11)]\n",
    "max_depth.append(None)\n",
    "# Minimum number of samples required to split a node\n",
    "min_samples_split = [2, 5, 10]\n",
    "# Minimum number of samples required at each leaf node\n",
    "min_samples_leaf = [1, 2, 4]\n",
    "# Method of selecting samples for training each tree\n",
    "bootstrap = [True, False]\n",
    "# Create the param grid\n",
    "param_grid = {'n_estimators': n_estimators,\n",
    "               'max_features': max_features,\n",
    "               'max_depth': max_depth,\n",
    "               'min_samples_split': min_samples_split,\n",
    "               'min_samples_leaf': min_samples_leaf,\n",
    "               'bootstrap': bootstrap}\n",
    "\n",
    "# Use the random grid to search for best hyperparameters\n",
    "# First create the base model to tune\n",
    "rf = RandomForestRegressor()\n",
    "\n",
    "# Random search of parameters, using 3 fold cross validation, \n",
    "# search across 100 different combinations, and use all available cores\n",
    "rf_random = RandomizedSearchCV(estimator = rf, param_distributions = param_grid, n_iter = 100, cv = 5, verbose=2, n_jobs = -1)\n",
    "\n",
    "# Fit the random search model\n",
    "rf_random.fit(X_train, y_train)"
   ]
  },
  {
   "cell_type": "code",
   "execution_count": 29,
   "metadata": {},
   "outputs": [
    {
     "name": "stdout",
     "output_type": "stream",
     "text": [
      "{'n_estimators': 200, 'min_samples_split': 2, 'min_samples_leaf': 1, 'max_features': 'auto', 'max_depth': 30, 'bootstrap': True}\n"
     ]
    }
   ],
   "source": [
    "print(rf_random.best_params_)"
   ]
  },
  {
   "cell_type": "code",
   "execution_count": 38,
   "metadata": {},
   "outputs": [
    {
     "name": "stdout",
     "output_type": "stream",
     "text": [
      "Model Performance\n",
      "Average Error: 3.0621 degrees.\n",
      "Accuracy = 81.99%.\n",
      "Model Performance\n",
      "MSE of:  5.755589138398937\n",
      "Model Performance\n",
      "Average Error: 3.0068 degrees.\n",
      "Accuracy = 82.40%.\n",
      "Model Performance\n",
      "MSE of:  5.616809676983853\n",
      "\n",
      "\n",
      "Accuracy Improvement of 0.49%.\n",
      "MSE Improvement of 2.41%.\n"
     ]
    }
   ],
   "source": [
    "base_model = RandomForestRegressor(bootstrap = True, n_estimators = 100)\n",
    "base_model.fit(X_train, y_train)\n",
    "base_accuracy = evaluate(base_model, X_test, y_test)\n",
    "base_mse = evaluate_mse(base_model, X_test, y_test)\n",
    "\n",
    "best_random = rf_random.best_estimator_\n",
    "random_accuracy = evaluate(best_random, X_test, y_test)\n",
    "random_mse = evaluate_mse(best_random, X_test, y_test)\n",
    "\n",
    "print('\\n')\n",
    "print('Accuracy Improvement of {:0.2f}%.'.format( 100 * (random_accuracy - base_accuracy) / base_accuracy))\n",
    "print('MSE Improvement of {:0.2f}%.'.format(-100 * (random_mse - base_mse) / base_mse))"
   ]
  },
  {
   "cell_type": "code",
   "execution_count": 31,
   "metadata": {},
   "outputs": [
    {
     "ename": "NameError",
     "evalue": "name 'rf_random' is not defined",
     "output_type": "error",
     "traceback": [
      "\u001b[1;31m---------------------------------------------------------------------------\u001b[0m",
      "\u001b[1;31mNameError\u001b[0m                                 Traceback (most recent call last)",
      "\u001b[1;32m<ipython-input-31-0f937899a9bc>\u001b[0m in \u001b[0;36m<module>\u001b[1;34m\u001b[0m\n\u001b[1;32m----> 1\u001b[1;33m \u001b[0mforest_reg\u001b[0m \u001b[1;33m=\u001b[0m \u001b[0mrf_random\u001b[0m\u001b[1;33m.\u001b[0m\u001b[0mbest_estimator_\u001b[0m\u001b[1;33m\u001b[0m\u001b[1;33m\u001b[0m\u001b[0m\n\u001b[0m\u001b[0;32m      2\u001b[0m \u001b[0mforest_reg\u001b[0m\u001b[1;33m.\u001b[0m\u001b[0mfit\u001b[0m\u001b[1;33m(\u001b[0m\u001b[0mX_train\u001b[0m\u001b[1;33m,\u001b[0m \u001b[0my_train\u001b[0m\u001b[1;33m)\u001b[0m\u001b[1;33m\u001b[0m\u001b[1;33m\u001b[0m\u001b[0m\n\u001b[0;32m      3\u001b[0m \u001b[1;33m\u001b[0m\u001b[0m\n\u001b[0;32m      4\u001b[0m \u001b[0my_pred\u001b[0m \u001b[1;33m=\u001b[0m \u001b[0mforest_reg\u001b[0m\u001b[1;33m.\u001b[0m\u001b[0mpredict\u001b[0m\u001b[1;33m(\u001b[0m\u001b[0mX_test\u001b[0m\u001b[1;33m)\u001b[0m\u001b[1;33m\u001b[0m\u001b[1;33m\u001b[0m\u001b[0m\n\u001b[0;32m      5\u001b[0m \u001b[1;33m\u001b[0m\u001b[0m\n",
      "\u001b[1;31mNameError\u001b[0m: name 'rf_random' is not defined"
     ]
    }
   ],
   "source": [
    "forest_reg = rf_random.best_estimator_\n",
    "forest_reg.fit(X_train, y_train)\n",
    "\n",
    "y_pred = forest_reg.predict(X_test)  \n",
    "\n",
    "print('R^2:', metrics.r2_score(y_test,y_pred))\n",
    "print('Mean Absolute Error:', metrics.mean_absolute_error(y_test, y_pred))  \n",
    "print('Mean Squared Error:', metrics.mean_squared_error(y_test, y_pred))  \n",
    "print('Root Mean Squared Error:', np.sqrt(metrics.mean_squared_error(y_test, y_pred)))\n",
    "\n",
    "scores = cross_val_score(forest_reg, X, y, cv=10)\n",
    "display_scores(scores)\n",
    "\n",
    "x_ax=range(len(y_pred))\n",
    "plt.figure(figsize=(20, 10)) \n",
    "plt.scatter(x_ax, y_test, s=5, color=\"green\", label=\"original\")\n",
    "plt.scatter(x_ax, y_pred, s=5, color=\"red\", label=\"predicted\")\n",
    "    \n",
    "plt.xlabel(\"Trial #\")\n",
    "plt.ylabel(\"Time of Cross (s)\")\n",
    "plt.legend()\n",
    "plt.show()"
   ]
  },
  {
   "cell_type": "code",
   "execution_count": 19,
   "metadata": {},
   "outputs": [
    {
     "name": "stdout",
     "output_type": "stream",
     "text": [
      "[START] Pre-training step:\n",
      ">> Epoch 1 finished \tRBM Reconstruction error 94936174309366.562500\n",
      ">> Epoch 2 finished \tRBM Reconstruction error 112726286074821.750000\n",
      ">> Epoch 3 finished \tRBM Reconstruction error 91363288692093.625000\n",
      ">> Epoch 4 finished \tRBM Reconstruction error 98775054571684.609375\n",
      ">> Epoch 5 finished \tRBM Reconstruction error 107875034495918.703125\n",
      ">> Epoch 6 finished \tRBM Reconstruction error 85931213038025.734375\n",
      ">> Epoch 7 finished \tRBM Reconstruction error 82632691726962.859375\n",
      ">> Epoch 8 finished \tRBM Reconstruction error 97621635649013.718750\n",
      ">> Epoch 9 finished \tRBM Reconstruction error 101799952005274.046875\n",
      ">> Epoch 10 finished \tRBM Reconstruction error 83870807677451.593750\n",
      ">> Epoch 11 finished \tRBM Reconstruction error 89312313269159.828125\n",
      ">> Epoch 12 finished \tRBM Reconstruction error 131140743738070.890625\n",
      ">> Epoch 13 finished \tRBM Reconstruction error 104962825247358.875000\n",
      ">> Epoch 14 finished \tRBM Reconstruction error 95033037151846.937500\n",
      ">> Epoch 15 finished \tRBM Reconstruction error 102804412752036.578125\n",
      ">> Epoch 16 finished \tRBM Reconstruction error 118376512502304.796875\n",
      ">> Epoch 17 finished \tRBM Reconstruction error 103107682303485.000000\n",
      ">> Epoch 18 finished \tRBM Reconstruction error 118183141552946.375000\n",
      ">> Epoch 19 finished \tRBM Reconstruction error 107300811767064.625000\n",
      ">> Epoch 20 finished \tRBM Reconstruction error 113737998256385.578125\n",
      "[END] Pre-training step\n",
      "[START] Fine tuning step:\n",
      ">> Epoch 0 finished \tANN training loss 345849114774208512.000000\n",
      ">> Epoch 1 finished \tANN training loss 17391821525090304.000000\n",
      ">> Epoch 2 finished \tANN training loss 874590700044288.000000\n",
      ">> Epoch 3 finished \tANN training loss 43980897124352.000000\n",
      ">> Epoch 4 finished \tANN training loss 2211682975744.000000\n",
      ">> Epoch 5 finished \tANN training loss 111219712000.000000\n",
      ">> Epoch 6 finished \tANN training loss 5592941056.000000\n",
      ">> Epoch 7 finished \tANN training loss 281254784.000000\n",
      ">> Epoch 8 finished \tANN training loss 14143717.000000\n",
      ">> Epoch 9 finished \tANN training loss 711414.375000\n",
      ">> Epoch 10 finished \tANN training loss 35831.011719\n",
      ">> Epoch 11 finished \tANN training loss 1927.684570\n",
      ">> Epoch 12 finished \tANN training loss 225.365631\n",
      ">> Epoch 13 finished \tANN training loss 137.778107\n",
      ">> Epoch 14 finished \tANN training loss 132.941315\n",
      ">> Epoch 15 finished \tANN training loss 132.672684\n",
      ">> Epoch 16 finished \tANN training loss 132.659637\n",
      ">> Epoch 17 finished \tANN training loss 132.659042\n",
      ">> Epoch 18 finished \tANN training loss 132.666504\n",
      ">> Epoch 19 finished \tANN training loss 132.664719\n",
      ">> Epoch 20 finished \tANN training loss 132.694992\n",
      ">> Epoch 21 finished \tANN training loss 132.659744\n",
      ">> Epoch 22 finished \tANN training loss 132.705688\n",
      ">> Epoch 23 finished \tANN training loss 132.669983\n",
      ">> Epoch 24 finished \tANN training loss 132.687469\n",
      ">> Epoch 25 finished \tANN training loss 132.697372\n",
      ">> Epoch 26 finished \tANN training loss 132.684875\n",
      ">> Epoch 27 finished \tANN training loss 132.688660\n",
      ">> Epoch 28 finished \tANN training loss 132.742905\n",
      ">> Epoch 29 finished \tANN training loss 132.694305\n",
      ">> Epoch 30 finished \tANN training loss 132.670273\n",
      ">> Epoch 31 finished \tANN training loss 132.659393\n",
      ">> Epoch 32 finished \tANN training loss 132.665131\n",
      ">> Epoch 33 finished \tANN training loss 132.658829\n",
      ">> Epoch 34 finished \tANN training loss 132.672287\n",
      ">> Epoch 35 finished \tANN training loss 132.673950\n",
      ">> Epoch 36 finished \tANN training loss 132.668884\n",
      ">> Epoch 37 finished \tANN training loss 132.752991\n",
      ">> Epoch 38 finished \tANN training loss 132.659637\n",
      ">> Epoch 39 finished \tANN training loss 132.674652\n",
      ">> Epoch 40 finished \tANN training loss 132.658905\n",
      ">> Epoch 41 finished \tANN training loss 132.692078\n",
      ">> Epoch 42 finished \tANN training loss 132.672165\n",
      ">> Epoch 43 finished \tANN training loss 132.672745\n",
      ">> Epoch 44 finished \tANN training loss 132.660019\n",
      ">> Epoch 45 finished \tANN training loss 132.663071\n",
      ">> Epoch 46 finished \tANN training loss 132.666458\n",
      ">> Epoch 47 finished \tANN training loss 132.659760\n",
      ">> Epoch 48 finished \tANN training loss 132.659866\n",
      ">> Epoch 49 finished \tANN training loss 132.664062\n",
      ">> Epoch 50 finished \tANN training loss 132.721970\n",
      ">> Epoch 51 finished \tANN training loss 132.659134\n",
      ">> Epoch 52 finished \tANN training loss 132.675781\n",
      ">> Epoch 53 finished \tANN training loss 132.702209\n",
      ">> Epoch 54 finished \tANN training loss 132.660645\n",
      ">> Epoch 55 finished \tANN training loss 132.662460\n",
      ">> Epoch 56 finished \tANN training loss 132.658829\n",
      ">> Epoch 57 finished \tANN training loss 132.658798\n",
      ">> Epoch 58 finished \tANN training loss 132.660858\n",
      ">> Epoch 59 finished \tANN training loss 132.658813\n",
      ">> Epoch 60 finished \tANN training loss 132.659195\n",
      ">> Epoch 61 finished \tANN training loss 132.694473\n",
      ">> Epoch 62 finished \tANN training loss 132.662354\n",
      ">> Epoch 63 finished \tANN training loss 132.663574\n",
      ">> Epoch 64 finished \tANN training loss 132.661591\n",
      ">> Epoch 65 finished \tANN training loss 132.662903\n",
      ">> Epoch 66 finished \tANN training loss 132.675156\n",
      ">> Epoch 67 finished \tANN training loss 132.660995\n",
      ">> Epoch 68 finished \tANN training loss 132.789658\n",
      ">> Epoch 69 finished \tANN training loss 132.685257\n",
      ">> Epoch 70 finished \tANN training loss 132.661118\n",
      ">> Epoch 71 finished \tANN training loss 132.667633\n",
      ">> Epoch 72 finished \tANN training loss 132.659515\n",
      ">> Epoch 73 finished \tANN training loss 132.708496\n",
      ">> Epoch 74 finished \tANN training loss 132.659866\n",
      ">> Epoch 75 finished \tANN training loss 132.659348\n",
      ">> Epoch 76 finished \tANN training loss 132.660645\n",
      ">> Epoch 77 finished \tANN training loss 132.675522\n",
      ">> Epoch 78 finished \tANN training loss 132.665451\n",
      ">> Epoch 79 finished \tANN training loss 132.771698\n",
      ">> Epoch 80 finished \tANN training loss 132.659149\n",
      ">> Epoch 81 finished \tANN training loss 132.660309\n",
      ">> Epoch 82 finished \tANN training loss 132.658829\n",
      ">> Epoch 83 finished \tANN training loss 132.722992\n",
      ">> Epoch 84 finished \tANN training loss 132.658768\n",
      ">> Epoch 85 finished \tANN training loss 132.658981\n",
      ">> Epoch 86 finished \tANN training loss 132.663589\n",
      ">> Epoch 87 finished \tANN training loss 132.671173\n",
      ">> Epoch 88 finished \tANN training loss 132.669388\n",
      ">> Epoch 89 finished \tANN training loss 132.685715\n",
      ">> Epoch 90 finished \tANN training loss 132.667847\n",
      ">> Epoch 91 finished \tANN training loss 132.660797\n",
      ">> Epoch 92 finished \tANN training loss 132.670105\n",
      ">> Epoch 93 finished \tANN training loss 132.692230\n",
      ">> Epoch 94 finished \tANN training loss 132.703400\n",
      ">> Epoch 95 finished \tANN training loss 132.667633\n",
      ">> Epoch 96 finished \tANN training loss 132.690598\n",
      ">> Epoch 97 finished \tANN training loss 132.673050\n",
      ">> Epoch 98 finished \tANN training loss 132.696854\n",
      ">> Epoch 99 finished \tANN training loss 132.665878\n",
      ">> Epoch 100 finished \tANN training loss 132.690186\n",
      ">> Epoch 101 finished \tANN training loss 132.660568\n",
      ">> Epoch 102 finished \tANN training loss 132.659744\n",
      ">> Epoch 103 finished \tANN training loss 132.658813\n",
      ">> Epoch 104 finished \tANN training loss 132.726334\n",
      ">> Epoch 105 finished \tANN training loss 132.658798\n",
      ">> Epoch 106 finished \tANN training loss 132.668747\n",
      ">> Epoch 107 finished \tANN training loss 132.666275\n",
      ">> Epoch 108 finished \tANN training loss 132.663483\n",
      ">> Epoch 109 finished \tANN training loss 132.687714\n",
      ">> Epoch 110 finished \tANN training loss 132.688843\n",
      ">> Epoch 111 finished \tANN training loss 132.667709\n",
      ">> Epoch 112 finished \tANN training loss 132.659073\n",
      ">> Epoch 113 finished \tANN training loss 132.665619\n",
      ">> Epoch 114 finished \tANN training loss 132.659210\n",
      ">> Epoch 115 finished \tANN training loss 132.701355\n",
      ">> Epoch 116 finished \tANN training loss 132.697449\n",
      ">> Epoch 117 finished \tANN training loss 132.674316\n",
      ">> Epoch 118 finished \tANN training loss 132.676422\n",
      ">> Epoch 119 finished \tANN training loss 132.659073\n",
      ">> Epoch 120 finished \tANN training loss 132.660156\n",
      ">> Epoch 121 finished \tANN training loss 132.659714\n",
      ">> Epoch 122 finished \tANN training loss 132.703720\n",
      ">> Epoch 123 finished \tANN training loss 132.658798\n",
      ">> Epoch 124 finished \tANN training loss 132.682037\n",
      ">> Epoch 125 finished \tANN training loss 132.659317\n",
      ">> Epoch 126 finished \tANN training loss 132.668182\n",
      ">> Epoch 127 finished \tANN training loss 132.667313\n",
      ">> Epoch 128 finished \tANN training loss 132.658798\n",
      ">> Epoch 129 finished \tANN training loss 132.659164\n",
      ">> Epoch 130 finished \tANN training loss 132.670029\n",
      ">> Epoch 131 finished \tANN training loss 132.672974\n"
     ]
    },
    {
     "name": "stdout",
     "output_type": "stream",
     "text": [
      ">> Epoch 132 finished \tANN training loss 132.659210\n",
      ">> Epoch 133 finished \tANN training loss 132.677505\n",
      ">> Epoch 134 finished \tANN training loss 132.677917\n",
      ">> Epoch 135 finished \tANN training loss 132.669189\n",
      ">> Epoch 136 finished \tANN training loss 132.664734\n",
      ">> Epoch 137 finished \tANN training loss 132.661926\n",
      ">> Epoch 138 finished \tANN training loss 132.700607\n",
      ">> Epoch 139 finished \tANN training loss 132.691620\n",
      ">> Epoch 140 finished \tANN training loss 132.660248\n",
      ">> Epoch 141 finished \tANN training loss 132.658783\n",
      ">> Epoch 142 finished \tANN training loss 132.659332\n",
      ">> Epoch 143 finished \tANN training loss 132.682022\n",
      ">> Epoch 144 finished \tANN training loss 132.679169\n",
      ">> Epoch 145 finished \tANN training loss 132.659698\n",
      ">> Epoch 146 finished \tANN training loss 132.669220\n",
      ">> Epoch 147 finished \tANN training loss 132.686386\n",
      ">> Epoch 148 finished \tANN training loss 132.691895\n",
      ">> Epoch 149 finished \tANN training loss 132.659882\n",
      ">> Epoch 150 finished \tANN training loss 132.693954\n",
      ">> Epoch 151 finished \tANN training loss 132.693634\n",
      ">> Epoch 152 finished \tANN training loss 132.658768\n",
      ">> Epoch 153 finished \tANN training loss 132.660599\n",
      ">> Epoch 154 finished \tANN training loss 132.668167\n",
      ">> Epoch 155 finished \tANN training loss 132.758484\n",
      ">> Epoch 156 finished \tANN training loss 132.715408\n",
      ">> Epoch 157 finished \tANN training loss 132.667252\n",
      ">> Epoch 158 finished \tANN training loss 132.715683\n",
      ">> Epoch 159 finished \tANN training loss 132.658875\n",
      ">> Epoch 160 finished \tANN training loss 132.661865\n",
      ">> Epoch 161 finished \tANN training loss 132.664062\n",
      ">> Epoch 162 finished \tANN training loss 132.681900\n",
      ">> Epoch 163 finished \tANN training loss 132.658783\n",
      ">> Epoch 164 finished \tANN training loss 132.680420\n",
      ">> Epoch 165 finished \tANN training loss 132.676788\n",
      ">> Epoch 166 finished \tANN training loss 132.664322\n",
      ">> Epoch 167 finished \tANN training loss 132.659134\n",
      ">> Epoch 168 finished \tANN training loss 132.665009\n",
      ">> Epoch 169 finished \tANN training loss 132.658890\n",
      ">> Epoch 170 finished \tANN training loss 132.667557\n",
      ">> Epoch 171 finished \tANN training loss 132.658798\n",
      ">> Epoch 172 finished \tANN training loss 132.778885\n",
      ">> Epoch 173 finished \tANN training loss 132.669327\n",
      ">> Epoch 174 finished \tANN training loss 132.667450\n",
      ">> Epoch 175 finished \tANN training loss 132.662521\n",
      ">> Epoch 176 finished \tANN training loss 132.659668\n",
      ">> Epoch 177 finished \tANN training loss 132.664673\n",
      ">> Epoch 178 finished \tANN training loss 132.662964\n",
      ">> Epoch 179 finished \tANN training loss 132.663300\n",
      ">> Epoch 180 finished \tANN training loss 132.658783\n",
      ">> Epoch 181 finished \tANN training loss 132.666199\n",
      ">> Epoch 182 finished \tANN training loss 132.659134\n",
      ">> Epoch 183 finished \tANN training loss 132.675873\n",
      ">> Epoch 184 finished \tANN training loss 132.659836\n",
      ">> Epoch 185 finished \tANN training loss 132.674454\n",
      ">> Epoch 186 finished \tANN training loss 132.668213\n",
      ">> Epoch 187 finished \tANN training loss 132.715744\n",
      ">> Epoch 188 finished \tANN training loss 132.717819\n",
      ">> Epoch 189 finished \tANN training loss 132.672577\n",
      ">> Epoch 190 finished \tANN training loss 132.670059\n",
      ">> Epoch 191 finished \tANN training loss 132.668289\n",
      ">> Epoch 192 finished \tANN training loss 132.691711\n",
      ">> Epoch 193 finished \tANN training loss 132.707443\n",
      ">> Epoch 194 finished \tANN training loss 132.681381\n",
      ">> Epoch 195 finished \tANN training loss 132.669769\n",
      ">> Epoch 196 finished \tANN training loss 132.659134\n",
      ">> Epoch 197 finished \tANN training loss 132.665466\n",
      ">> Epoch 198 finished \tANN training loss 132.663162\n",
      ">> Epoch 199 finished \tANN training loss 132.661453\n",
      "[END] Fine tuning step\n"
     ]
    },
    {
     "data": {
      "text/plain": [
       "SupervisedDBNRegression(batch_size=16, dropout_p=0, l2_regularization=1.0,\n",
       "                        learning_rate=0.01, n_iter_backprop=200, verbose=True)"
      ]
     },
     "execution_count": 19,
     "metadata": {},
     "output_type": "execute_result"
    }
   ],
   "source": [
    "\n",
    "from dbn.tensorflow import SupervisedDBNRegression\n",
    "# Training\n",
    "regressor = SupervisedDBNRegression(hidden_layers_structure=[100],\n",
    "                                    learning_rate_rbm=0.01,\n",
    "                                    learning_rate=0.01,\n",
    "                                    n_epochs_rbm=20,\n",
    "                                    n_iter_backprop=200,\n",
    "                                    batch_size=16,\n",
    "                                    activation_function='relu')\n",
    "regressor.fit(X_train, y_train)"
   ]
  },
  {
   "cell_type": "code",
   "execution_count": 20,
   "metadata": {},
   "outputs": [
    {
     "data": {
      "image/png": "[encoded data removed]",
      "text/plain": [
       "<Figure size 1440x720 with 1 Axes>"
      ]
     },
     "metadata": {
      "needs_background": "light"
     },
     "output_type": "display_data"
    },
    {
     "name": "stdout",
     "output_type": "stream",
     "text": [
      "R^2: -0.002135972367997674\n",
      "Mean Absolute Error: 7.137601684377658\n",
      "Mean Squared Error: 119.9394967413633\n",
      "Root Mean Squared Error: 10.951689218625742\n"
     ]
    }
   ],
   "source": [
    "from sklearn.metrics.regression import r2_score, mean_squared_error\n",
    "y_pred = regressor.predict(X_test)\n",
    "\n",
    "x_ax=range(len(y_pred))\n",
    "plt.figure(figsize=(20, 10)) \n",
    "plt.scatter(x_ax, y_test, s=5, color=\"green\", label=\"original\")\n",
    "plt.scatter(x_ax, y_pred, s=5, color=\"red\", label=\"predicted\")\n",
    "    \n",
    "plt.xlabel(\"Trial #\")\n",
    "plt.ylabel(\"Time of Cross (s)\")\n",
    "plt.legend()\n",
    "plt.show()\n",
    "\n",
    "print('R^2:', metrics.r2_score(y_test,y_pred))\n",
    "print('Mean Absolute Error:', metrics.mean_absolute_error(y_test, y_pred))  \n",
    "print('Mean Squared Error:', metrics.mean_squared_error(y_test, y_pred))  \n",
    "print('Root Mean Squared Error:', np.sqrt(metrics.mean_squared_error(y_test, y_pred)))"
   ]
  },
  {
   "cell_type": "code",
   "execution_count": 28,
   "metadata": {},
   "outputs": [
    {
     "data": {
      "text/plain": [
       "(294, 13)"
      ]
     },
     "execution_count": 28,
     "metadata": {},
     "output_type": "execute_result"
    }
   ],
   "source": [
    "X_test.shape"
   ]
  },
  {
   "cell_type": "code",
   "execution_count": null,
   "metadata": {},
   "outputs": [],
   "source": []
  }
 ],
 "metadata": {
  "kernelspec": {
   "display_name": "Python 3",
   "language": "python",
   "name": "python3"
  },
  "language_info": {
   "codemirror_mode": {
    "name": "ipython",
    "version": 3
   },
   "file_extension": ".py",
   "mimetype": "text/x-python",
   "name": "python",
   "nbconvert_exporter": "python",
   "pygments_lexer": "ipython3",
   "version": "3.7.1"
  }
 },
 "nbformat": 4,
 "nbformat_minor": 2
}
