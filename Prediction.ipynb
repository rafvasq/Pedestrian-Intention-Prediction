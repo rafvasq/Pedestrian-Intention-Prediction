{
 "cells": [
  {
   "cell_type": "code",
   "execution_count": 143,
   "metadata": {},
   "outputs": [
    {
     "data": {
      "text/plain": [
       "'0.24.2'"
      ]
     },
     "execution_count": 143,
     "metadata": {},
     "output_type": "execute_result"
    }
   ],
   "source": [
    "%matplotlib inline\n",
    "\n",
    "import pickle\n",
    "import pandas as pd\n",
    "import numpy as np\n",
    "import os\n",
    "import matplotlib.mlab as mlab\n",
    "import matplotlib.pyplot as plt\n",
    "\n",
    "from sklearn import metrics \n",
    "from sklearn.ensemble import RandomForestRegressor\n",
    "from sklearn.tree import DecisionTreeRegressor\n",
    "from sklearn.model_selection import cross_val_score, train_test_split\n",
    "from sklearn.model_selection import RandomizedSearchCV, GridSearchCV\n",
    "\n",
    "dataPath = '../PedestrianData/IntentionData'\n",
    "pd.__version__"
   ]
  },
  {
   "cell_type": "markdown",
   "metadata": {},
   "source": [
    "#### Loading the demographic and environmental data from pickle:"
   ]
  },
  {
   "cell_type": "code",
   "execution_count": 79,
   "metadata": {},
   "outputs": [
    {
     "data": {
      "text/html": [
       "<div>\n",
       "<style scoped>\n",
       "    .dataframe tbody tr th:only-of-type {\n",
       "        vertical-align: middle;\n",
       "    }\n",
       "\n",
       "    .dataframe tbody tr th {\n",
       "        vertical-align: top;\n",
       "    }\n",
       "\n",
       "    .dataframe thead th {\n",
       "        text-align: right;\n",
       "    }\n",
       "</style>\n",
       "<table border=\"1\" class=\"dataframe\">\n",
       "  <thead>\n",
       "    <tr style=\"text-align: right;\">\n",
       "      <th></th>\n",
       "      <th>File</th>\n",
       "      <th>Scenario</th>\n",
       "      <th>Wait Time (s)</th>\n",
       "      <th>PET (s)</th>\n",
       "      <th>Distace to Collision Point</th>\n",
       "      <th>Card ID</th>\n",
       "      <th>Speed Limit</th>\n",
       "      <th>Lane Width</th>\n",
       "      <th>Minimum Gap</th>\n",
       "      <th>Mean Arrival Rate</th>\n",
       "      <th>AV</th>\n",
       "      <th>Full Braking Before Impact_-1.0</th>\n",
       "      <th>Full Braking Before Impact_1</th>\n",
       "      <th>Full Braking Before Impact_2</th>\n",
       "      <th>Full Braking Before Impact_3</th>\n",
       "      <th>Snowy</th>\n",
       "      <th>One way</th>\n",
       "      <th>two way</th>\n",
       "      <th>Two way with median</th>\n",
       "      <th>Night</th>\n",
       "      <th>name</th>\n",
       "      <th>numcars</th>\n",
       "      <th>Vrexpnum</th>\n",
       "      <th>Age_9-12</th>\n",
       "      <th>Age_15-18</th>\n",
       "      <th>Age_12-15</th>\n",
       "      <th>Age_18 - 24</th>\n",
       "      <th>Age_25 - 29</th>\n",
       "      <th>Age_30 - 39</th>\n",
       "      <th>Age_40 - 49</th>\n",
       "      <th>Age_50 - 59</th>\n",
       "      <th>Age_60+</th>\n",
       "      <th>Gender_Female</th>\n",
       "      <th>Occupation_Employed</th>\n",
       "      <th>Occupation_Student</th>\n",
       "      <th>Occupation_Unemployed</th>\n",
       "      <th>Occupation_kid</th>\n",
       "      <th>Education_Bachelors degree</th>\n",
       "      <th>Education_College/University student</th>\n",
       "      <th>Education_Doctorate degree</th>\n",
       "      <th>Education_High school diploma</th>\n",
       "      <th>Education_Masters degree</th>\n",
       "      <th>Education_Professional degree</th>\n",
       "      <th>driving license_Yes</th>\n",
       "      <th>mode_Bike</th>\n",
       "      <th>mode_Car</th>\n",
       "      <th>mode_Public Transit</th>\n",
       "      <th>mode_Walking</th>\n",
       "      <th>workwalk_No</th>\n",
       "      <th>workwalk_Sometimes</th>\n",
       "      <th>workwalk_Yes</th>\n",
       "      <th>shopwalk_No</th>\n",
       "      <th>shopwalk_Sometimes</th>\n",
       "      <th>shopwalk_Yes</th>\n",
       "      <th>shopwalk_kid</th>\n",
       "      <th>Vrexp_Yes</th>\n",
       "      <th>Heart_Currently</th>\n",
       "      <th>Heart_Over the years</th>\n",
       "      <th>vision_Currently</th>\n",
       "      <th>vision_Over the years</th>\n",
       "      <th>anxiety_Currently</th>\n",
       "      <th>anxiety_Over the years</th>\n",
       "      <th>Headaches_Currently</th>\n",
       "      <th>Headaches_Over the years</th>\n",
       "      <th>dizziness_Over the years</th>\n",
       "    </tr>\n",
       "  </thead>\n",
       "  <tbody>\n",
       "    <tr>\n",
       "      <th>2365</th>\n",
       "      <td>shelly/75--2018-09-7--19-50-32.txt</td>\n",
       "      <td>75</td>\n",
       "      <td>13.1696</td>\n",
       "      <td>0</td>\n",
       "      <td>1000</td>\n",
       "      <td>75</td>\n",
       "      <td>50</td>\n",
       "      <td>2.5</td>\n",
       "      <td>2</td>\n",
       "      <td>750</td>\n",
       "      <td>100</td>\n",
       "      <td>0</td>\n",
       "      <td>1</td>\n",
       "      <td>0</td>\n",
       "      <td>0</td>\n",
       "      <td>0</td>\n",
       "      <td>0</td>\n",
       "      <td>1</td>\n",
       "      <td>0</td>\n",
       "      <td>0</td>\n",
       "      <td>shelly</td>\n",
       "      <td>1</td>\n",
       "      <td>NaN</td>\n",
       "      <td>0</td>\n",
       "      <td>0</td>\n",
       "      <td>0</td>\n",
       "      <td>0</td>\n",
       "      <td>0</td>\n",
       "      <td>1</td>\n",
       "      <td>0</td>\n",
       "      <td>0</td>\n",
       "      <td>0</td>\n",
       "      <td>1</td>\n",
       "      <td>1</td>\n",
       "      <td>0</td>\n",
       "      <td>0</td>\n",
       "      <td>0</td>\n",
       "      <td>0</td>\n",
       "      <td>1</td>\n",
       "      <td>0</td>\n",
       "      <td>0</td>\n",
       "      <td>0</td>\n",
       "      <td>0</td>\n",
       "      <td>1</td>\n",
       "      <td>0</td>\n",
       "      <td>1</td>\n",
       "      <td>0</td>\n",
       "      <td>0</td>\n",
       "      <td>1</td>\n",
       "      <td>0</td>\n",
       "      <td>0</td>\n",
       "      <td>1</td>\n",
       "      <td>0</td>\n",
       "      <td>0</td>\n",
       "      <td>0</td>\n",
       "      <td>0</td>\n",
       "      <td>0</td>\n",
       "      <td>0</td>\n",
       "      <td>0</td>\n",
       "      <td>0</td>\n",
       "      <td>0</td>\n",
       "      <td>0</td>\n",
       "      <td>0</td>\n",
       "      <td>0</td>\n",
       "      <td>0</td>\n",
       "    </tr>\n",
       "  </tbody>\n",
       "</table>\n",
       "</div>"
      ],
      "text/plain": [
       "                                    File Scenario Wait Time (s) PET (s)  \\\n",
       "2365  shelly/75--2018-09-7--19-50-32.txt       75       13.1696       0   \n",
       "\n",
       "     Distace to Collision Point Card ID Speed Limit Lane Width Minimum Gap  \\\n",
       "2365                       1000      75          50        2.5           2   \n",
       "\n",
       "     Mean Arrival Rate   AV Full Braking Before Impact_-1.0  \\\n",
       "2365               750  100                               0   \n",
       "\n",
       "     Full Braking Before Impact_1 Full Braking Before Impact_2  \\\n",
       "2365                            1                            0   \n",
       "\n",
       "     Full Braking Before Impact_3 Snowy One way two way Two way with median  \\\n",
       "2365                            0     0       0       1                   0   \n",
       "\n",
       "     Night    name numcars Vrexpnum Age_9-12 Age_15-18 Age_12-15 Age_18 - 24  \\\n",
       "2365     0  shelly       1      NaN        0         0         0           0   \n",
       "\n",
       "     Age_25 - 29 Age_30 - 39 Age_40 - 49 Age_50 - 59 Age_60+ Gender_Female  \\\n",
       "2365           0           1           0           0       0             1   \n",
       "\n",
       "     Occupation_Employed Occupation_Student Occupation_Unemployed  \\\n",
       "2365                   1                  0                     0   \n",
       "\n",
       "     Occupation_kid Education_Bachelors degree  \\\n",
       "2365              0                          0   \n",
       "\n",
       "     Education_College/University student Education_Doctorate degree  \\\n",
       "2365                                    1                          0   \n",
       "\n",
       "     Education_High school diploma Education_Masters degree  \\\n",
       "2365                             0                        0   \n",
       "\n",
       "     Education_Professional degree driving license_Yes mode_Bike mode_Car  \\\n",
       "2365                             0                   1         0        1   \n",
       "\n",
       "     mode_Public Transit mode_Walking workwalk_No workwalk_Sometimes  \\\n",
       "2365                   0            0           1                  0   \n",
       "\n",
       "     workwalk_Yes shopwalk_No shopwalk_Sometimes shopwalk_Yes shopwalk_kid  \\\n",
       "2365            0           1                  0            0            0   \n",
       "\n",
       "     Vrexp_Yes Heart_Currently Heart_Over the years vision_Currently  \\\n",
       "2365         0               0                    0                0   \n",
       "\n",
       "     vision_Over the years anxiety_Currently anxiety_Over the years  \\\n",
       "2365                     0                 0                      0   \n",
       "\n",
       "     Headaches_Currently Headaches_Over the years dizziness_Over the years  \n",
       "2365                   0                        0                        0  "
      ]
     },
     "execution_count": 79,
     "metadata": {},
     "output_type": "execute_result"
    }
   ],
   "source": [
    "data = pd.read_pickle('../PedestrianData/Rafael.pkl')\n",
    "pd.options.display.max_columns = None\n",
    "data.sample(1)"
   ]
  },
  {
   "cell_type": "markdown",
   "metadata": {},
   "source": [
    "#### Removing folder names from file values (some files are in subfolders)\n",
    "#### Cleasing data that contain errors"
   ]
  },
  {
   "cell_type": "code",
   "execution_count": 80,
   "metadata": {},
   "outputs": [
    {
     "data": {
      "text/plain": [
       "(3410, 65)"
      ]
     },
     "execution_count": 80,
     "metadata": {},
     "output_type": "execute_result"
    }
   ],
   "source": [
    "for i in range(len(data)):\n",
    "    value = data['File'].values[i].split('/')\n",
    "    data['File'].values[i] = value[len(value) - 1]\n",
    "    data['Wait Time (s)'] == \"Err2\"\n",
    "    \n",
    "data = data[data['Wait Time (s)'] != \"Err1\"]\n",
    "data = data[data['Wait Time (s)'] != \"Err2\"]\n",
    "data = data[data['Wait Time (s)'] != \"Err3\"]\n",
    "data = data[data['Wait Time (s)'] != \"Err4\"]\n",
    "data = data[data['Wait Time (s)'] != \"Err5\"]\n",
    "data = data[data['Wait Time (s)'] != 0]\n",
    "    \n",
    "data.shape"
   ]
  },
  {
   "cell_type": "markdown",
   "metadata": {},
   "source": [
    "## Curating final set of possible features"
   ]
  },
  {
   "cell_type": "code",
   "execution_count": 105,
   "metadata": {},
   "outputs": [],
   "source": [
    "files = os.listdir(dataPath)\n",
    "\n",
    "features = np.empty((len(files), 22), dtype=list)\n",
    "\n",
    "for i in range(len(files)):\n",
    "    file = dataPath + \"/\" + files[i]\n",
    "    df = pd.read_csv(file, sep=\",\", header=None, \n",
    "                 names=[\"Time\", \n",
    "                        \"Pos_x\", \"Pos_y\", \"Pos_z\", \n",
    "                        \"Gaz_x\", \"Gaz_y\", \"Gaz_z\", \n",
    "                        \"Vel_x\", \"Vel_z\",\n",
    "                        \"Acc_x\", \"Acc_z\",\n",
    "                        \"Vel_Mag\", \"Acc_Mag\",\n",
    "                        \"Vel_Ang\", \"Acc_Ang\", \"Gaz_Ang\",\n",
    "                        \"Vel_Bin\", \"Acc_Bin\", \"Gaz_Bin\", \"Chg_Bin\"          \n",
    "                       ])\n",
    "    try:\n",
    "        features[i, 0] = (data.loc[data['File'] == files[i]])[\"Wait Time (s)\"].item()\n",
    "        features[i, 1] = (data.loc[data['File'] == files[i]])[\"Lane Width\"].item()\n",
    "        features[i, 2] = (data.loc[data['File'] == files[i]])[\"One way\"].item()\n",
    "        features[i, 3] = (data.loc[data['File'] == files[i]])[\"Snowy\"].item()\n",
    "        features[i, 4] = (data.loc[data['File'] == files[i]])[\"Night\"].item()\n",
    "        features[i, 5] = (data.loc[data['File'] == files[i]])[\"Speed Limit\"].item()\n",
    "        features[i, 6] = (data.loc[data['File'] == files[i]])[\"Mean Arrival Rate\"].item()\n",
    "    except:\n",
    "        features[i, 0] = 0\n",
    "        features[i, 1] = 0\n",
    "        features[i, 2] = 0\n",
    "        features[i, 3] = 0\n",
    "        features[i, 4] = 0\n",
    "        features[i, 5] = 0\n",
    "        features[i, 6] = 0\n",
    "    finally:\n",
    "        # Filling the rest of the features with each direction bin\n",
    "        gaze_bins = np.histogram(np.array(df[\"Gaz_Bin\"]), bins=[1, 2, 3, 4, 5, 6, 7, 8], density=False)[0]\n",
    "        change_bins = np.histogram(np.array(df[\"Chg_Bin\"]), bins=[1, 2, 3, 4, 5, 6, 7, 8], density=False)[0]\n",
    "        for j in range(len(gaze_bins)):\n",
    "            features[i, j+7] = gaze_bins[j]\n",
    "        for k in range(len(change_bins)):\n",
    "            features[i, k+j+7] = change_bins[k]\n",
    "        \n",
    "# Removing data with crossing time of '0'\n",
    "features = features[features[:, 0] != 0]"
   ]
  },
  {
   "cell_type": "markdown",
   "metadata": {},
   "source": [
    "# Testing regression models"
   ]
  },
  {
   "cell_type": "code",
   "execution_count": 174,
   "metadata": {},
   "outputs": [],
   "source": [
    "def getData(N):\n",
    "    x,y =[],[]\n",
    "    for i in range(N):\n",
    "        c = [\n",
    "            \n",
    "            features[i,1], # Lane width (2, 2.5, 3)\n",
    "            features[i,2], # One Way (0, 1)\n",
    "            features[i,3], # Snowy (0, 1)\n",
    "            features[i,4], # Night (0, 1)\n",
    "            features[i,5], # Speed Limit (30, 40, 50)\n",
    "            features[i,6], # Mean Arrival\n",
    "            # head pose bins\n",
    "            features[i,7], features[i,8], features[i,9], features[i,10], features[i,11], features[i,12], features[i,13], \n",
    "            # change pose bins\n",
    "            features[i,14], features[i,15], features[i,16], features[i,17], features[i,18], features[i,19]\n",
    "            \n",
    "        ]\n",
    "        yy = features[i, 0]\n",
    "        x.append(c)\n",
    "        y.append(yy)\n",
    "    return np.array(x), np.array(y)\n",
    "\n",
    "def display_scores(scores):\n",
    "    print(\"Scores:\", scores)\n",
    "    print(\"Mean:\", scores.mean())\n",
    "    print(\"Standard deviation:\", scores.std())\n",
    "    \n",
    "X,y=getData(len(features))\n",
    "X_train, X_test, y_train, y_test = train_test_split(X, y, test_size=0.20)"
   ]
  },
  {
   "cell_type": "code",
   "execution_count": 150,
   "metadata": {},
   "outputs": [
    {
     "name": "stdout",
     "output_type": "stream",
     "text": [
      "Fitting 3 folds for each of 100 candidates, totalling 300 fits\n"
     ]
    },
    {
     "name": "stderr",
     "output_type": "stream",
     "text": [
      "[Parallel(n_jobs=-1)]: Using backend LokyBackend with 8 concurrent workers.\n",
      "[Parallel(n_jobs=-1)]: Done  25 tasks      | elapsed:   24.2s\n",
      "[Parallel(n_jobs=-1)]: Done 146 tasks      | elapsed:  1.8min\n",
      "[Parallel(n_jobs=-1)]: Done 300 out of 300 | elapsed:  4.0min finished\n"
     ]
    },
    {
     "data": {
      "text/plain": [
       "RandomizedSearchCV(cv=3, error_score='raise-deprecating',\n",
       "          estimator=RandomForestRegressor(bootstrap=True, criterion='mse', max_depth=None,\n",
       "           max_features='auto', max_leaf_nodes=None,\n",
       "           min_impurity_decrease=0.0, min_impurity_split=None,\n",
       "           min_samples_leaf=1, min_samples_split=2,\n",
       "           min_weight_fraction_leaf=0.0, n_estimators='warn', n_jobs=None,\n",
       "           oob_score=False, random_state=None, verbose=0, warm_start=False),\n",
       "          fit_params=None, iid='warn', n_iter=100, n_jobs=-1,\n",
       "          param_distributions={'n_estimators': [200, 400, 600, 800, 1000, 1200, 1400, 1600, 1800, 2000], 'max_features': ['auto', 'sqrt'], 'max_depth': [10, 20, 30, 40, 50, 60, 70, 80, 90, 100, 110, None], 'min_samples_split': [2, 5, 10], 'min_samples_leaf': [1, 2, 4], 'bootstrap': [True, False]},\n",
       "          pre_dispatch='2*n_jobs', random_state=42, refit=True,\n",
       "          return_train_score='warn', scoring=None, verbose=2)"
      ]
     },
     "execution_count": 150,
     "metadata": {},
     "output_type": "execute_result"
    }
   ],
   "source": [
    "# Number of trees in random forest\n",
    "n_estimators = [int(x) for x in np.linspace(start = 200, stop = 2000, num = 10)]\n",
    "# Number of features to consider at every split\n",
    "max_features = ['auto', 'sqrt']\n",
    "# Maximum number of levels in tree\n",
    "max_depth = [int(x) for x in np.linspace(10, 110, num = 11)]\n",
    "max_depth.append(None)\n",
    "# Minimum number of samples required to split a node\n",
    "min_samples_split = [2, 5, 10]\n",
    "# Minimum number of samples required at each leaf node\n",
    "min_samples_leaf = [1, 2, 4]\n",
    "# Method of selecting samples for training each tree\n",
    "bootstrap = [True, False]\n",
    "# Create the random grid\n",
    "random_grid = {'n_estimators': n_estimators,\n",
    "               'max_features': max_features,\n",
    "               'max_depth': max_depth,\n",
    "               'min_samples_split': min_samples_split,\n",
    "               'min_samples_leaf': min_samples_leaf,\n",
    "               'bootstrap': bootstrap}\n",
    "\n",
    "# Use the random grid to search for best hyperparameters\n",
    "# First create the base model to tune\n",
    "rf = RandomForestRegressor()\n",
    "# Random search of parameters, using 3 fold cross validation, \n",
    "# search across 100 different combinations, and use all available cores\n",
    "rf_random = RandomizedSearchCV(estimator = rf, param_distributions = random_grid, n_iter = 100, cv = 5, verbose=2, random_state=42, n_jobs = -1)\n",
    "# Fit the random search model\n",
    "rf_random.fit(X_train, y_train)"
   ]
  },
  {
   "cell_type": "code",
   "execution_count": 185,
   "metadata": {},
   "outputs": [
    {
     "data": {
      "text/plain": [
       "{'n_estimators': 600,\n",
       " 'min_samples_split': 2,\n",
       " 'min_samples_leaf': 2,\n",
       " 'max_features': 'sqrt',\n",
       " 'max_depth': 110,\n",
       " 'bootstrap': False}"
      ]
     },
     "execution_count": 185,
     "metadata": {},
     "output_type": "execute_result"
    }
   ],
   "source": [
    "rf_random.best_params_"
   ]
  },
  {
   "cell_type": "code",
   "execution_count": 186,
   "metadata": {},
   "outputs": [
    {
     "name": "stdout",
     "output_type": "stream",
     "text": [
      "Model Performance\n",
      "Average Error: 2.7960 degrees.\n",
      "Accuracy = 82.68%.\n",
      "Model Performance\n",
      "Average Error: 1.1192 degrees.\n",
      "Accuracy = 92.57%.\n",
      "Improvement of 11.97%.\n"
     ]
    }
   ],
   "source": [
    "def evaluate(model, test_features, test_labels):\n",
    "    predictions = model.predict(test_features)\n",
    "    errors = abs(predictions - test_labels)\n",
    "    mape = 100 * np.mean(errors / test_labels)\n",
    "    accuracy = 100 - mape\n",
    "    print('Model Performance')\n",
    "    print('Average Error: {:0.4f} degrees.'.format(np.mean(errors)))\n",
    "    print('Accuracy = {:0.2f}%.'.format(accuracy))\n",
    "    \n",
    "    return accuracy\n",
    "base_model = RandomForestRegressor(random_state = 42, bootstrap = True, n_estimators = 100)\n",
    "base_model.fit(X_train, y_train)\n",
    "base_accuracy = evaluate(base_model, X_test, y_test)\n",
    "\n",
    "best_random = rf_random.best_estimator_\n",
    "random_accuracy = evaluate(best_random, X_test, y_test)\n",
    "\n",
    "print('Improvement of {:0.2f}%.'.format( 100 * (random_accuracy - base_accuracy) / base_accuracy))"
   ]
  },
  {
   "cell_type": "code",
   "execution_count": 188,
   "metadata": {},
   "outputs": [
    {
     "name": "stdout",
     "output_type": "stream",
     "text": [
      "Fitting 3 folds for each of 288 candidates, totalling 864 fits\n"
     ]
    },
    {
     "name": "stderr",
     "output_type": "stream",
     "text": [
      "[Parallel(n_jobs=-1)]: Using backend LokyBackend with 8 concurrent workers.\n",
      "[Parallel(n_jobs=-1)]: Done  25 tasks      | elapsed:    4.8s\n",
      "[Parallel(n_jobs=-1)]: Done 146 tasks      | elapsed:   18.7s\n",
      "[Parallel(n_jobs=-1)]: Done 349 tasks      | elapsed:   43.3s\n",
      "[Parallel(n_jobs=-1)]: Done 632 tasks      | elapsed:  1.3min\n",
      "[Parallel(n_jobs=-1)]: Done 864 out of 864 | elapsed:  1.7min finished\n"
     ]
    },
    {
     "data": {
      "text/plain": [
       "GridSearchCV(cv=3, error_score='raise-deprecating',\n",
       "       estimator=RandomForestRegressor(bootstrap=True, criterion='mse', max_depth=None,\n",
       "           max_features='auto', max_leaf_nodes=None,\n",
       "           min_impurity_decrease=0.0, min_impurity_split=None,\n",
       "           min_samples_leaf=1, min_samples_split=2,\n",
       "           min_weight_fraction_leaf=0.0, n_estimators='warn', n_jobs=None,\n",
       "           oob_score=False, random_state=None, verbose=0, warm_start=False),\n",
       "       fit_params=None, iid='warn', n_jobs=-1,\n",
       "       param_grid={'bootstrap': [True], 'max_depth': [80, 90, 100, 110], 'max_features': [2, 3], 'min_samples_leaf': [3, 4, 5], 'min_samples_split': [8, 10, 12], 'n_estimators': [100, 200, 300, 1000]},\n",
       "       pre_dispatch='2*n_jobs', refit=True, return_train_score='warn',\n",
       "       scoring=None, verbose=2)"
      ]
     },
     "execution_count": 188,
     "metadata": {},
     "output_type": "execute_result"
    }
   ],
   "source": [
    "# Create the parameter grid based on the results of random search \n",
    "param_grid = {\n",
    "    'bootstrap': [True],\n",
    "    'max_depth': [80, 90, 100, 110],\n",
    "    'max_features': [2, 3],\n",
    "    'min_samples_leaf': [3, 4, 5],\n",
    "    'min_samples_split': [8, 10, 12],\n",
    "    'n_estimators': [100, 200, 300, 1000]\n",
    "}\n",
    "# Create a based model\n",
    "rf = RandomForestRegressor()\n",
    "# Instantiate the grid search model\n",
    "grid_search = GridSearchCV(estimator = rf, param_grid = param_grid, \n",
    "                          cv = 3, n_jobs = -1, verbose = 2)\n",
    "\n",
    "# Fit the grid search to the data\n",
    "grid_search.fit(X_train, y_train)"
   ]
  },
  {
   "cell_type": "code",
   "execution_count": 193,
   "metadata": {},
   "outputs": [
    {
     "name": "stdout",
     "output_type": "stream",
     "text": [
      "R^2: 0.6968691041679196\n",
      "Mean Absolute Error: 2.7656161355921585\n",
      "Mean Squared Error: 32.331040605059265\n",
      "Root Mean Squared Error: 5.6860390963358025\n",
      "Scores: [0.74659803 0.70974437 0.80362443 0.79678317 0.8060212  0.80753475\n",
      " 0.80907847 0.76778469 0.76252416 0.9192271 ]\n",
      "Mean: 0.7928920355182434\n",
      "Standard deviation: 0.05229618911419521\n"
     ]
    },
    {
     "data": {
      "image/png": "[encoded data removed]",
      "text/plain": [
       "<Figure size 1440x720 with 1 Axes>"
      ]
     },
     "metadata": {
      "needs_background": "light"
     },
     "output_type": "display_data"
    }
   ],
   "source": [
    "forest_reg = RandomForestRegressor(random_state = 42, bootstrap = True, n_estimators = 100)  \n",
    "forest_reg.fit(X_train, y_train)\n",
    "\n",
    "y_pred = forest_reg.predict(X_test)  \n",
    "\n",
    "print('R^2:', metrics.r2_score(y_test,y_pred))\n",
    "print('Mean Absolute Error:', metrics.mean_absolute_error(y_test, y_pred))  \n",
    "print('Mean Squared Error:', metrics.mean_squared_error(y_test, y_pred))  \n",
    "print('Root Mean Squared Error:', np.sqrt(metrics.mean_squared_error(y_test, y_pred)))\n",
    "\n",
    "scores = cross_val_score(forest_reg, X, y, cv=10)\n",
    "display_scores(scores)\n",
    "\n",
    "x_ax=range(len(y_pred))\n",
    "plt.figure(figsize=(20, 10)) \n",
    "plt.scatter(x_ax, y_test, s=5, color=\"green\", label=\"original\")\n",
    "plt.scatter(x_ax, y_pred, s=5, color=\"red\", label=\"predicted\")\n",
    "    \n",
    "plt.xlabel(\"Trial #\")\n",
    "plt.ylabel(\"Time of Cross (s)\")\n",
    "plt.legend()\n",
    "plt.show()"
   ]
  },
  {
   "cell_type": "code",
   "execution_count": null,
   "metadata": {},
   "outputs": [],
   "source": []
  }
 ],
 "metadata": {
  "kernelspec": {
   "display_name": "Python 3",
   "language": "python",
   "name": "python3"
  },
  "language_info": {
   "codemirror_mode": {
    "name": "ipython",
    "version": 3
   },
   "file_extension": ".py",
   "mimetype": "text/x-python",
   "name": "python",
   "nbconvert_exporter": "python",
   "pygments_lexer": "ipython3",
   "version": "3.7.1"
  }
 },
 "nbformat": 4,
 "nbformat_minor": 2
}
