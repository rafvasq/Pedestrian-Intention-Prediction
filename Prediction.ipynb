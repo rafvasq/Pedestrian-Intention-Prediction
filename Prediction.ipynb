{
 "cells": [
  {
   "cell_type": "code",
   "execution_count": 429,
   "metadata": {},
   "outputs": [
    {
     "data": {
      "text/plain": [
       "'0.24.2'"
      ]
     },
     "execution_count": 429,
     "metadata": {},
     "output_type": "execute_result"
    }
   ],
   "source": [
    "%matplotlib inline\n",
    "\n",
    "import pickle\n",
    "import pandas as pd\n",
    "import numpy as np\n",
    "import matplotlib.mlab as mlab\n",
    "import matplotlib.pyplot as plt\n",
    "\n",
    "from sklearn import metrics \n",
    "from sklearn.ensemble import RandomForestRegressor\n",
    "from sklearn.tree import DecisionTreeRegressor\n",
    "from sklearn.model_selection import cross_val_score, train_test_split\n",
    "\n",
    "dataPath = '../PedestrianData/IntentionData'\n",
    "pd.__version__"
   ]
  },
  {
   "cell_type": "markdown",
   "metadata": {},
   "source": [
    "#### Loading the demographic and environmental data from pickle:"
   ]
  },
  {
   "cell_type": "code",
   "execution_count": 430,
   "metadata": {},
   "outputs": [
    {
     "data": {
      "text/plain": [
       "['File',\n",
       " 'Scenario',\n",
       " 'Wait Time (s)',\n",
       " 'PET (s)',\n",
       " 'Distace to Collision Point',\n",
       " 'Card ID',\n",
       " 'Speed Limit',\n",
       " 'Lane Width',\n",
       " 'Minimum Gap',\n",
       " 'Mean Arrival Rate',\n",
       " 'AV',\n",
       " 'Full Braking Before Impact_-1.0',\n",
       " 'Full Braking Before Impact_1',\n",
       " 'Full Braking Before Impact_2',\n",
       " 'Full Braking Before Impact_3',\n",
       " 'Snowy',\n",
       " 'One way',\n",
       " 'two way',\n",
       " 'Two way with median',\n",
       " 'Night',\n",
       " 'name',\n",
       " 'numcars',\n",
       " 'Vrexpnum',\n",
       " 'Age_9-12',\n",
       " 'Age_15-18',\n",
       " 'Age_12-15',\n",
       " 'Age_18 - 24',\n",
       " 'Age_25 - 29',\n",
       " 'Age_30 - 39',\n",
       " 'Age_40 - 49',\n",
       " 'Age_50 - 59',\n",
       " 'Age_60+',\n",
       " 'Gender_Female',\n",
       " 'Occupation_Employed',\n",
       " 'Occupation_Student',\n",
       " 'Occupation_Unemployed',\n",
       " 'Occupation_kid',\n",
       " 'Education_Bachelors degree',\n",
       " 'Education_College/University student',\n",
       " 'Education_Doctorate degree',\n",
       " 'Education_High school diploma',\n",
       " 'Education_Masters degree',\n",
       " 'Education_Professional degree',\n",
       " 'driving license_Yes',\n",
       " 'mode_Bike',\n",
       " 'mode_Car',\n",
       " 'mode_Public Transit',\n",
       " 'mode_Walking',\n",
       " 'workwalk_No',\n",
       " 'workwalk_Sometimes',\n",
       " 'workwalk_Yes',\n",
       " 'shopwalk_No',\n",
       " 'shopwalk_Sometimes',\n",
       " 'shopwalk_Yes',\n",
       " 'shopwalk_kid',\n",
       " 'Vrexp_Yes',\n",
       " 'Heart_Currently',\n",
       " 'Heart_Over the years',\n",
       " 'vision_Currently',\n",
       " 'vision_Over the years',\n",
       " 'anxiety_Currently',\n",
       " 'anxiety_Over the years',\n",
       " 'Headaches_Currently',\n",
       " 'Headaches_Over the years',\n",
       " 'dizziness_Over the years']"
      ]
     },
     "execution_count": 430,
     "metadata": {},
     "output_type": "execute_result"
    }
   ],
   "source": [
    "data = pd.read_pickle('../PedestrianData/Rafael.pkl')\n",
    "list(data)"
   ]
  },
  {
   "cell_type": "markdown",
   "metadata": {},
   "source": [
    "#### Removing folder names from file values (some files are in subfolders)\n",
    "#### Cleasing data that contain errors"
   ]
  },
  {
   "cell_type": "code",
   "execution_count": 431,
   "metadata": {},
   "outputs": [
    {
     "data": {
      "text/plain": [
       "(3410, 65)"
      ]
     },
     "execution_count": 431,
     "metadata": {},
     "output_type": "execute_result"
    }
   ],
   "source": [
    "for i in range(len(data)):\n",
    "    value = data['File'].values[i].split('/')\n",
    "    data['File'].values[i] = value[len(value) - 1]\n",
    "    data['Wait Time (s)'] == \"Err2\"\n",
    "    \n",
    "data = data[data['Wait Time (s)'] != \"Err1\"]\n",
    "data = data[data['Wait Time (s)'] != \"Err2\"]\n",
    "data = data[data['Wait Time (s)'] != \"Err3\"]\n",
    "data = data[data['Wait Time (s)'] != \"Err4\"]\n",
    "data = data[data['Wait Time (s)'] != \"Err5\"]\n",
    "data = data[data['Wait Time (s)'] != 0]\n",
    "    \n",
    "data.shape"
   ]
  },
  {
   "cell_type": "markdown",
   "metadata": {},
   "source": [
    "## Curating final set of possible features"
   ]
  },
  {
   "cell_type": "code",
   "execution_count": 444,
   "metadata": {},
   "outputs": [],
   "source": [
    "files = os.listdir(dataPath)\n",
    "\n",
    "# [Cross, OneWay, Snowy, ]\n",
    "features = np.empty((len(files), 14), dtype=list)\n",
    "\n",
    "for i in range(len(files)):\n",
    "    count = 0\n",
    "    file = dataPath + \"/\" + files[i]\n",
    "    df = pd.read_csv(file, sep=\",\", header=None, \n",
    "                 names=[\"Time\", \n",
    "                        \"Pos_x\", \"Pos_y\", \"Pos_z\", \n",
    "                        \"Gaz_x\", \"Gaz_y\", \"Gaz_z\", \n",
    "                        \"Vel_x\", \"Vel_z\",\n",
    "                        \"Acc_x\", \"Acc_z\",\n",
    "                        \"Vel_Mag\", \"Acc_Mag\",\n",
    "                        \"Vel_Ang\", \"Acc_Ang\", \"Gaz_Ang\",\n",
    "                        \"Vel_Bin\", \"Acc_Bin\", \"Gaz_Bin\", \"Chg_Bin\"          \n",
    "                       ])\n",
    "    try:\n",
    "        features[i, 0] = (data.loc[data['File'] == files[i]])[\"Wait Time (s)\"].item()\n",
    "        features[i, 1] = (data.loc[data['File'] == files[i]])[\"Lane Width\"].item()\n",
    "        features[i, 2] = (data.loc[data['File'] == files[i]])[\"One way\"].item()\n",
    "        features[i, 3] = (data.loc[data['File'] == files[i]])[\"Snowy\"].item()\n",
    "        features[i, 4] = (data.loc[data['File'] == files[i]])[\"Night\"].item()\n",
    "        features[i, 5] = (data.loc[data['File'] == files[i]])[\"Speed Limit\"].item()\n",
    "        features[i, 6] = (data.loc[data['File'] == files[i]])[\"Mean Arrival Rate\"].item()\n",
    "\n",
    "    except:\n",
    "        features[i, 0] = 0\n",
    "        features[i, 1] = 0\n",
    "        features[i, 2] = 0\n",
    "        features[i, 3] = 0\n",
    "        features[i, 4] = 0\n",
    "        features[i, 5] = 0\n",
    "        features[i, 6] = 0\n",
    "    finally:\n",
    "        bins = np.histogram(np.array(df[\"Gaz_Bin\"]), bins=[1, 2, 3, 4, 5, 6, 7, 8], density=False)[0]\n",
    "        for j in range(len(bins)):\n",
    "            features[i, j+7] = bins[j]\n",
    "        \n",
    "        \n",
    "        #features[i, 3] = np.histogram(np.array(df[\"Gaz_Bin\"]), bins=[1, 2, 3, 4, 5, 6, 7, 8], density=False)[0][0]\n",
    "        #features[i, 4] = np.histogram(np.array(df[\"Gaz_Bin\"]), bins=[1, 2, 3, 4, 5, 6, 7, 8], density=False)[0][1]\n",
    "        #features[i, 5] = np.histogram(np.array(df[\"Gaz_Bin\"]), bins=[1, 2, 3, 4, 5, 6, 7, 8], density=False)[0][2]\n",
    "        #features[i, 6] = np.histogram(np.array(df[\"Gaz_Bin\"]), bins=[1, 2, 3, 4, 5, 6, 7, 8], density=False)[0][3]\n",
    "        #features[i, 7] = np.histogram(np.array(df[\"Gaz_Bin\"]), bins=[1, 2, 3, 4, 5, 6, 7, 8], density=False)[0][4]\n",
    "        #features[i, 8] = np.histogram(np.array(df[\"Gaz_Bin\"]), bins=[1, 2, 3, 4, 5, 6, 7, 8], density=False)[0][5]\n",
    "        #features[i, 9] = np.histogram(np.array(df[\"Gaz_Bin\"]), bins=[1, 2, 3, 4, 5, 6, 7, 8], density=False)[0][6]\n",
    "        \n",
    "# Removing data with crossing time of '0'\n",
    "features = features[features[:, 0] != 0]\n",
    "\n",
    "#final_df = pd.DataFrame(bin_data, columns=('Wait Time', 'Width', 'Type', 'Gaz_Bin', \"Chg_Bin\"))\n",
    "\n",
    "# Validating data types in the dataset\n",
    "#np.unique([str(datum.dtype) for datum in features[:,3]])"
   ]
  },
  {
   "cell_type": "markdown",
   "metadata": {},
   "source": [
    "# Testing regression models"
   ]
  },
  {
   "cell_type": "markdown",
   "metadata": {},
   "source": [
    "### Decision Tree"
   ]
  },
  {
   "cell_type": "code",
   "execution_count": 455,
   "metadata": {},
   "outputs": [
    {
     "name": "stdout",
     "output_type": "stream",
     "text": [
      "Trained with:  1174\n",
      "Tested with:  294\n",
      "R^2 (coefficient of determination) regression score function: 0.47922375227262004\n",
      "Mean Absolute Error: 3.9465420119047625\n",
      "Mean Squared Error: 52.86067107097206\n",
      "Root Mean Squared Error: 7.270534441908109\n"
     ]
    },
    {
     "data": {
      "image/png": "[encoded data removed]",
      "text/plain": [
       "<Figure size 1080x720 with 1 Axes>"
      ]
     },
     "metadata": {
      "needs_background": "light"
     },
     "output_type": "display_data"
    }
   ],
   "source": [
    "def getData(N):\n",
    "    x,y =[],[]\n",
    "    for i in range(N):\n",
    "        c = [features[i,1], features[i,2], features[i,3], \n",
    "             features[i,4], features[i,5], features[i,6], \n",
    "             features[i,7], features[i,8], features[i,9], \n",
    "             features[i,10], features[i,11], features[i,12], \n",
    "             features[i,13]]\n",
    "        yy = features[i, 0]\n",
    "        x.append(c)\n",
    "        y.append(yy)\n",
    "    return np.array(x), np.array(y)\n",
    "\n",
    "X,y=getData(len(features))\n",
    "\n",
    "X_train, X_test, y_train, y_test = train_test_split(X, y, test_size=0.20)\n",
    "regressor = DecisionTreeRegressor()  \n",
    "regressor.fit(X_train, y_train)\n",
    "\n",
    "y_pred = regressor.predict(X_test)  \n",
    "\n",
    "print(\"Trained with: \", len(X_train))\n",
    "print(\"Tested with: \", len(X_test))\n",
    "print('R^2 (coefficient of determination) regression score function:', metrics.r2_score(y_test,y_pred))\n",
    "print('Mean Absolute Error:', metrics.mean_absolute_error(y_test, y_pred))  \n",
    "print('Mean Squared Error:', metrics.mean_squared_error(y_test, y_pred))  \n",
    "print('Root Mean Squared Error:', np.sqrt(metrics.mean_squared_error(y_test, y_pred)))\n",
    "\n",
    "x_ax=range(len(y_pred))\n",
    "plt.figure(figsize=(15, 10)) \n",
    "plt.scatter(x_ax, y_test, s=5, color=\"green\", label=\"original\")\n",
    "plt.scatter(x_ax, y_pred, lw=1.5, color=\"red\", label=\"predicted\")\n",
    "    \n",
    "plt.xlabel(\"Trial #\")\n",
    "plt.ylabel(\"Time of Cross (s)\")\n",
    "plt.legend()\n",
    "plt.show()"
   ]
  },
  {
   "cell_type": "code",
   "execution_count": 475,
   "metadata": {},
   "outputs": [
    {
     "name": "stdout",
     "output_type": "stream",
     "text": [
      "Scores: [ 6.94204491 10.66656483  6.3345192   6.2096734   5.40385161  5.2045311\n",
      "  9.90070105  8.19490247  8.01871002  5.30253518]\n",
      "Mean: 7.217803376153691\n",
      "Standard deviation: 1.8322818516549937\n"
     ]
    },
    {
     "data": {
      "image/png": "[encoded data removed]",
      "text/plain": [
       "<Figure size 1080x720 with 1 Axes>"
      ]
     },
     "metadata": {
      "needs_background": "light"
     },
     "output_type": "display_data"
    }
   ],
   "source": [
    "def getData(N):\n",
    "    x,y =[],[]\n",
    "    for i in range(N):\n",
    "        c = [features[i,1], features[i,2], features[i,3], \n",
    "             features[i,4], features[i,5], features[i,6], \n",
    "             features[i,7], features[i,8], features[i,9], \n",
    "             features[i,10], features[i,11], features[i,12], \n",
    "             features[i,13]]\n",
    "        yy = features[i, 0]\n",
    "        x.append(c)\n",
    "        y.append(yy)\n",
    "    return np.array(x), np.array(y)\n",
    "\n",
    "X,y=getData(len(features))\n",
    "\n",
    "X_train, X_test, y_train, y_test = train_test_split(X, y, test_size=0.20)\n",
    "forest_reg = RandomForestRegressor(bootstrap = True, n_estimators = 50)  \n",
    "forest_reg.fit(X_train, y_train)\n",
    "\n",
    "y_pred = forest_reg.predict(X_test)  \n",
    "\n",
    "#print('R^2 (coefficient of determination) regression score function:', metrics.r2_score(y_test,y_pred))\n",
    "#print('Mean Absolute Error:', metrics.mean_absolute_error(y_test, y_pred))  \n",
    "#print('Mean Squared Error:', metrics.mean_squared_error(y_test, y_pred))  \n",
    "#print('Root Mean Squared Error:', np.sqrt(metrics.mean_squared_error(y_test, y_pred)))\n",
    "\n",
    "def display_scores(scores):\n",
    "    print(\"Scores:\", scores)\n",
    "    print(\"Mean:\", scores.mean())\n",
    "    print(\"Standard deviation:\", scores.std())\n",
    "\n",
    "cross_val_score(forest_reg, X, y, scoring=\"neg_mean_squared_error\", cv=10)\n",
    "forest_rmse_scores = np.sqrt(-scores)\n",
    "display_scores(forest_rmse_scores)\n",
    "\n",
    "x_ax=range(len(y_pred))\n",
    "plt.figure(figsize=(15, 10)) \n",
    "plt.scatter(x_ax, y_test, s=5, color=\"green\", label=\"original\")\n",
    "plt.scatter(x_ax, y_pred, lw=1.5, color=\"red\", label=\"predicted\")\n",
    "    \n",
    "plt.xlabel(\"Trial #\")\n",
    "plt.ylabel(\"Time of Cross (s)\")\n",
    "plt.legend()\n",
    "plt.show()"
   ]
  },
  {
   "cell_type": "code",
   "execution_count": 468,
   "metadata": {},
   "outputs": [
    {
     "name": "stdout",
     "output_type": "stream",
     "text": [
      "{'bootstrap': True, 'n_estimators': 50}\n",
      "RandomForestRegressor(bootstrap=True, criterion='mse', max_depth=None,\n",
      "           max_features='auto', max_leaf_nodes=None,\n",
      "           min_impurity_decrease=0.0, min_impurity_split=None,\n",
      "           min_samples_leaf=1, min_samples_split=2,\n",
      "           min_weight_fraction_leaf=0.0, n_estimators=50, n_jobs=None,\n",
      "           oob_score=False, random_state=None, verbose=0, warm_start=False)\n"
     ]
    }
   ],
   "source": [
    "from sklearn.model_selection import GridSearchCV\n",
    "\n",
    "param_grid = [\n",
    "    {'bootstrap': [True], 'n_estimators': [10, 50, 100, 250, 500]},\n",
    "    {'bootstrap': [False], 'n_estimators': [10, 50, 100, 250, 500]},\n",
    "  ]\n",
    "\n",
    "forest_reg = RandomForestRegressor()\n",
    "\n",
    "grid_search = GridSearchCV(forest_reg, param_grid, cv=5, scoring='neg_mean_squared_error', return_train_score=True)\n",
    "\n",
    "grid_search.fit(X, y)\n",
    "\n",
    "print(grid_search.best_params_)\n",
    "print(grid_search.best_estimator_)"
   ]
  }
 ],
 "metadata": {
  "kernelspec": {
   "display_name": "Python 3",
   "language": "python",
   "name": "python3"
  },
  "language_info": {
   "codemirror_mode": {
    "name": "ipython",
    "version": 3
   },
   "file_extension": ".py",
   "mimetype": "text/x-python",
   "name": "python",
   "nbconvert_exporter": "python",
   "pygments_lexer": "ipython3",
   "version": "3.7.1"
  }
 },
 "nbformat": 4,
 "nbformat_minor": 2
}
