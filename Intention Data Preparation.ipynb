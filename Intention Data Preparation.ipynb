{
 "cells": [
  {
   "cell_type": "code",
   "execution_count": 1,
   "metadata": {},
   "outputs": [
    {
     "data": {
      "text/plain": [
       "'0.24.2'"
      ]
     },
     "execution_count": 1,
     "metadata": {},
     "output_type": "execute_result"
    }
   ],
   "source": [
    "%matplotlib inline\n",
    "\n",
    "import pickle\n",
    "import os, random\n",
    "import pandas as pd\n",
    "import numpy as np\n",
    "import matplotlib.mlab as mlab\n",
    "import matplotlib.pyplot as plt\n",
    "\n",
    "dataPath = '../PedestrianData/IntentionData'\n",
    "pd.__version__"
   ]
  },
  {
   "cell_type": "markdown",
   "metadata": {},
   "source": [
    "#### Loading the demographic and environmental data from pickle:"
   ]
  },
  {
   "cell_type": "code",
   "execution_count": 2,
   "metadata": {},
   "outputs": [
    {
     "data": {
      "text/html": [
       "<div>\n",
       "<style scoped>\n",
       "    .dataframe tbody tr th:only-of-type {\n",
       "        vertical-align: middle;\n",
       "    }\n",
       "\n",
       "    .dataframe tbody tr th {\n",
       "        vertical-align: top;\n",
       "    }\n",
       "\n",
       "    .dataframe thead th {\n",
       "        text-align: right;\n",
       "    }\n",
       "</style>\n",
       "<table border=\"1\" class=\"dataframe\">\n",
       "  <thead>\n",
       "    <tr style=\"text-align: right;\">\n",
       "      <th></th>\n",
       "      <th>File</th>\n",
       "      <th>Scenario</th>\n",
       "      <th>Wait Time (s)</th>\n",
       "      <th>PET (s)</th>\n",
       "      <th>Distace to Collision Point</th>\n",
       "      <th>Card ID</th>\n",
       "      <th>Speed Limit</th>\n",
       "      <th>Lane Width</th>\n",
       "      <th>Minimum Gap</th>\n",
       "      <th>Mean Arrival Rate</th>\n",
       "      <th>...</th>\n",
       "      <th>Vrexp_Yes</th>\n",
       "      <th>Heart_Currently</th>\n",
       "      <th>Heart_Over the years</th>\n",
       "      <th>vision_Currently</th>\n",
       "      <th>vision_Over the years</th>\n",
       "      <th>anxiety_Currently</th>\n",
       "      <th>anxiety_Over the years</th>\n",
       "      <th>Headaches_Currently</th>\n",
       "      <th>Headaches_Over the years</th>\n",
       "      <th>dizziness_Over the years</th>\n",
       "    </tr>\n",
       "  </thead>\n",
       "  <tbody>\n",
       "    <tr>\n",
       "      <th>0</th>\n",
       "      <td>Jonathan Yao/2--2018-08-7--11-40-27.txt</td>\n",
       "      <td>2</td>\n",
       "      <td>43.032</td>\n",
       "      <td>0</td>\n",
       "      <td>1000</td>\n",
       "      <td>2</td>\n",
       "      <td>30</td>\n",
       "      <td>3</td>\n",
       "      <td>1.5</td>\n",
       "      <td>1100</td>\n",
       "      <td>...</td>\n",
       "      <td>1</td>\n",
       "      <td>0</td>\n",
       "      <td>0</td>\n",
       "      <td>0</td>\n",
       "      <td>0</td>\n",
       "      <td>0</td>\n",
       "      <td>0</td>\n",
       "      <td>0</td>\n",
       "      <td>0</td>\n",
       "      <td>0</td>\n",
       "    </tr>\n",
       "    <tr>\n",
       "      <th>1</th>\n",
       "      <td>Jonathan Yao/14--2018-08-7--11-38-35.txt</td>\n",
       "      <td>14</td>\n",
       "      <td>9.42172</td>\n",
       "      <td>1000</td>\n",
       "      <td>1000</td>\n",
       "      <td>14</td>\n",
       "      <td>40</td>\n",
       "      <td>2.5</td>\n",
       "      <td>2</td>\n",
       "      <td>530</td>\n",
       "      <td>...</td>\n",
       "      <td>1</td>\n",
       "      <td>0</td>\n",
       "      <td>0</td>\n",
       "      <td>0</td>\n",
       "      <td>0</td>\n",
       "      <td>0</td>\n",
       "      <td>0</td>\n",
       "      <td>0</td>\n",
       "      <td>0</td>\n",
       "      <td>0</td>\n",
       "    </tr>\n",
       "    <tr>\n",
       "      <th>2</th>\n",
       "      <td>Jonathan Yao/19--2018-08-7--11-39-16.txt</td>\n",
       "      <td>19</td>\n",
       "      <td>35.2602</td>\n",
       "      <td>0</td>\n",
       "      <td>1000</td>\n",
       "      <td>19</td>\n",
       "      <td>30</td>\n",
       "      <td>3</td>\n",
       "      <td>1.5</td>\n",
       "      <td>1100</td>\n",
       "      <td>...</td>\n",
       "      <td>1</td>\n",
       "      <td>0</td>\n",
       "      <td>0</td>\n",
       "      <td>0</td>\n",
       "      <td>0</td>\n",
       "      <td>0</td>\n",
       "      <td>0</td>\n",
       "      <td>0</td>\n",
       "      <td>0</td>\n",
       "      <td>0</td>\n",
       "    </tr>\n",
       "    <tr>\n",
       "      <th>3</th>\n",
       "      <td>Jonathan Yao/3--2018-08-7--11-32-11.txt</td>\n",
       "      <td>3</td>\n",
       "      <td>17.4219</td>\n",
       "      <td>0</td>\n",
       "      <td>1000</td>\n",
       "      <td>3</td>\n",
       "      <td>30</td>\n",
       "      <td>3</td>\n",
       "      <td>1</td>\n",
       "      <td>750</td>\n",
       "      <td>...</td>\n",
       "      <td>1</td>\n",
       "      <td>0</td>\n",
       "      <td>0</td>\n",
       "      <td>0</td>\n",
       "      <td>0</td>\n",
       "      <td>0</td>\n",
       "      <td>0</td>\n",
       "      <td>0</td>\n",
       "      <td>0</td>\n",
       "      <td>0</td>\n",
       "    </tr>\n",
       "    <tr>\n",
       "      <th>4</th>\n",
       "      <td>Jonathan Yao/48--2018-08-7--11-34-41.txt</td>\n",
       "      <td>48</td>\n",
       "      <td>27.3343</td>\n",
       "      <td>1000</td>\n",
       "      <td>1000</td>\n",
       "      <td>48</td>\n",
       "      <td>30</td>\n",
       "      <td>2.75</td>\n",
       "      <td>1</td>\n",
       "      <td>1100</td>\n",
       "      <td>...</td>\n",
       "      <td>1</td>\n",
       "      <td>0</td>\n",
       "      <td>0</td>\n",
       "      <td>0</td>\n",
       "      <td>0</td>\n",
       "      <td>0</td>\n",
       "      <td>0</td>\n",
       "      <td>0</td>\n",
       "      <td>0</td>\n",
       "      <td>0</td>\n",
       "    </tr>\n",
       "  </tbody>\n",
       "</table>\n",
       "<p>5 rows × 65 columns</p>\n",
       "</div>"
      ],
      "text/plain": [
       "                                       File Scenario Wait Time (s) PET (s)  \\\n",
       "0   Jonathan Yao/2--2018-08-7--11-40-27.txt        2        43.032       0   \n",
       "1  Jonathan Yao/14--2018-08-7--11-38-35.txt       14       9.42172    1000   \n",
       "2  Jonathan Yao/19--2018-08-7--11-39-16.txt       19       35.2602       0   \n",
       "3   Jonathan Yao/3--2018-08-7--11-32-11.txt        3       17.4219       0   \n",
       "4  Jonathan Yao/48--2018-08-7--11-34-41.txt       48       27.3343    1000   \n",
       "\n",
       "  Distace to Collision Point Card ID Speed Limit Lane Width Minimum Gap  \\\n",
       "0                       1000       2          30          3         1.5   \n",
       "1                       1000      14          40        2.5           2   \n",
       "2                       1000      19          30          3         1.5   \n",
       "3                       1000       3          30          3           1   \n",
       "4                       1000      48          30       2.75           1   \n",
       "\n",
       "  Mean Arrival Rate  ... Vrexp_Yes Heart_Currently Heart_Over the years  \\\n",
       "0              1100  ...         1               0                    0   \n",
       "1               530  ...         1               0                    0   \n",
       "2              1100  ...         1               0                    0   \n",
       "3               750  ...         1               0                    0   \n",
       "4              1100  ...         1               0                    0   \n",
       "\n",
       "  vision_Currently vision_Over the years anxiety_Currently  \\\n",
       "0                0                     0                 0   \n",
       "1                0                     0                 0   \n",
       "2                0                     0                 0   \n",
       "3                0                     0                 0   \n",
       "4                0                     0                 0   \n",
       "\n",
       "  anxiety_Over the years Headaches_Currently Headaches_Over the years  \\\n",
       "0                      0                   0                        0   \n",
       "1                      0                   0                        0   \n",
       "2                      0                   0                        0   \n",
       "3                      0                   0                        0   \n",
       "4                      0                   0                        0   \n",
       "\n",
       "  dizziness_Over the years  \n",
       "0                        0  \n",
       "1                        0  \n",
       "2                        0  \n",
       "3                        0  \n",
       "4                        0  \n",
       "\n",
       "[5 rows x 65 columns]"
      ]
     },
     "execution_count": 2,
     "metadata": {},
     "output_type": "execute_result"
    }
   ],
   "source": [
    "data = pd.read_pickle('../PedestrianData/ALLDATA.pkl')"
   ]
  },
  {
   "cell_type": "markdown",
   "metadata": {},
   "source": [
    "#### Removing folder names from file values (some files are in subfolders):"
   ]
  },
  {
   "cell_type": "code",
   "execution_count": 3,
   "metadata": {},
   "outputs": [],
   "source": [
    "for i in range(len(data)):\n",
    "    value = data['File'].values[i].split('/')\n",
    "    data['File'].values[i] = value[len(value) - 1]"
   ]
  },
  {
   "cell_type": "markdown",
   "metadata": {},
   "source": [
    "### Reading three sample trials"
   ]
  },
  {
   "cell_type": "code",
   "execution_count": 4,
   "metadata": {},
   "outputs": [],
   "source": [
    "while True:\n",
    "    file1 = random.choice(os.listdir(dataPath))    \n",
    "    file2 = random.choice(os.listdir(dataPath))    \n",
    "    file3 = random.choice(os.listdir(dataPath))    \n",
    "    if (data.loc[data['File'] == file1]['Wait Time (s)'].empty\n",
    "        or data.loc[data['File'] == file2]['Wait Time (s)'].empty\n",
    "       or data.loc[data['File'] == file3]['Wait Time (s)'].empty):\n",
    "        continue\n",
    "    else:\n",
    "        break\n",
    "\n",
    "crossTime1 = data.loc[data['File'] == file1]['Wait Time (s)']\n",
    "crossTime2 = data.loc[data['File'] == file2]['Wait Time (s)']\n",
    "crossTime3 = data.loc[data['File'] == file3]['Wait Time (s)']\n",
    "\n",
    "width1 = data.loc[data['File'] == file1]['Lane Width']\n",
    "width2 = data.loc[data['File'] == file2]['Lane Width']\n",
    "width3 = data.loc[data['File'] == file3]['Lane Width']\n",
    "\n",
    "if(data.loc[data['File'] == file1]['One way'].item() == 1):\n",
    "    lane1 = 'One Way'\n",
    "else:\n",
    "    lane1 = \"Two Way\"\n",
    "    \n",
    "if(data.loc[data['File'] == file2]['One way'].item() == 1):\n",
    "    lane2 = 'One Way'\n",
    "else:\n",
    "    lane2 = \"Two Way\"\n",
    "    \n",
    "if(data.loc[data['File'] == file2]['One way'].item() == 1):\n",
    "    lane3 = 'One Way'\n",
    "else:\n",
    "    lane3 = \"Two Way\"\n",
    "\n",
    "        \n",
    "df1 = pd.read_csv(dataPath + '/' + file1, sep=\",\", header=None, \n",
    "                 names=[\"Time\", \n",
    "                        \"Pos_x\", \"Pos_y\", \"Pos_z\", \n",
    "                        \"Gaz_x\", \"Gaz_y\", \"Gaz_z\", \n",
    "                        \"Vel_x\", \"Vel_z\",\n",
    "                        \"Acc_x\", \"Acc_z\",\n",
    "                        \"Vel_Mag\", \"Acc_Mag\",\n",
    "                        \"Vel_Ang\", \"Acc_Ang\", \"Gaz_Ang\",\n",
    "                        \"Vel_Bin\", \"Acc_Bin\", \"Gaz_Bin\"           \n",
    "                       ])\n",
    "df2 = pd.read_csv(dataPath + '/' + file2, sep=\",\", header=None, \n",
    "                 names=[\"Time\", \n",
    "                        \"Pos_x\", \"Pos_y\", \"Pos_z\", \n",
    "                        \"Gaz_x\", \"Gaz_y\", \"Gaz_z\", \n",
    "                        \"Vel_x\", \"Vel_z\",\n",
    "                        \"Acc_x\", \"Acc_z\",\n",
    "                        \"Vel_Mag\", \"Acc_Mag\",\n",
    "                        \"Vel_Ang\", \"Acc_Ang\", \"Gaz_Ang\",\n",
    "                        \"Vel_Bin\", \"Acc_Bin\", \"Gaz_Bin\"           \n",
    "                       ])\n",
    "df3 = pd.read_csv(dataPath + '/' + file3, sep=\",\", header=None, \n",
    "                 names=[\"Time\", \n",
    "                        \"Pos_x\", \"Pos_y\", \"Pos_z\", \n",
    "                        \"Gaz_x\", \"Gaz_y\", \"Gaz_z\", \n",
    "                        \"Vel_x\", \"Vel_z\",\n",
    "                        \"Acc_x\", \"Acc_z\",\n",
    "                        \"Vel_Mag\", \"Acc_Mag\",\n",
    "                        \"Vel_Ang\", \"Acc_Ang\", \"Gaz_Ang\",\n",
    "                        \"Vel_Bin\", \"Acc_Bin\", \"Gaz_Bin\"           \n",
    "                       ])\n",
    "\n",
    "\n"
   ]
  },
  {
   "cell_type": "markdown",
   "metadata": {},
   "source": [
    "### Visualizing gaze directions over time "
   ]
  },
  {
   "cell_type": "code",
   "execution_count": 9,
   "metadata": {},
   "outputs": [
    {
     "data": {
      "text/plain": [
       "Text(0.5, 0.98, '3 Sample Trials and Gaze Directions')"
      ]
     },
     "execution_count": 9,
     "metadata": {},
     "output_type": "execute_result"
    },
    {
     "data": {
      "image/png": "[encoded data removed]",
      "text/plain": [
       "<Figure size 432x288 with 1 Axes>"
      ]
     },
     "metadata": {
      "needs_background": "light"
     },
     "output_type": "display_data"
    }
   ],
   "source": [
    "data_x = [crossTime1.tolist()[0], crossTime2.tolist()[0], crossTime3.tolist()[0]]\n",
    "data_y = [648, 648, 648]\n",
    "#plt.plot(data_x, data_y, 'or')\n",
    "\n",
    "plt.quiver(df1[\"Time\"], df1[\"Pos_z\"], df1[\"Gaz_x\"], df1[\"Gaz_z\"], color='g')\n",
    "plt.quiver(df2[\"Time\"], df2[\"Pos_z\"], df2[\"Gaz_x\"], df2[\"Gaz_z\"], color='r')\n",
    "plt.quiver(df3[\"Time\"], df3[\"Pos_z\"], df3[\"Gaz_x\"], df3[\"Gaz_z\"], color='b')\n",
    "plt.xlabel(\"Time (s)\")\n",
    "plt.ylabel(\"Position on Crosswalk (Unity 3d)\")\n",
    "plt.suptitle('3 Sample Trials and Gaze Directions', fontsize=20)"
   ]
  },
  {
   "cell_type": "markdown",
   "metadata": {},
   "source": [
    "### Histograms of the discretized directions for head gaze\n",
    "#### Includes lane type and width"
   ]
  },
  {
   "cell_type": "code",
   "execution_count": 13,
   "metadata": {},
   "outputs": [
    {
     "data": {
      "text/plain": [
       "Text(0.5, 0.98, 'Two Way 3.0')"
      ]
     },
     "execution_count": 13,
     "metadata": {},
     "output_type": "execute_result"
    },
    {
     "data": {
      "image/png": "[encoded data removed]",
      "text/plain": [
       "<Figure size 432x288 with 1 Axes>"
      ]
     },
     "metadata": {
      "needs_background": "light"
     },
     "output_type": "display_data"
    }
   ],
   "source": [
    "bins1 = df1[\"Gaz_Bin\"]\n",
    "bins2 = df2[\"Gaz_Bin\"]\n",
    "bins3 = df3[\"Gaz_Bin\"]\n",
    "\n",
    "plt.hist(bins1, bins=np.arange(bins1.min(), bins1.max()+2)-0.5, color='g')\n",
    "plt.suptitle(lane1 + \" \" + str(width1.values[0]), fontsize=20)"
   ]
  },
  {
   "cell_type": "code",
   "execution_count": 14,
   "metadata": {
    "scrolled": false
   },
   "outputs": [
    {
     "data": {
      "text/plain": [
       "Text(0.5, 0.98, 'Two Way:2.75')"
      ]
     },
     "execution_count": 14,
     "metadata": {},
     "output_type": "execute_result"
    },
    {
     "data": {
      "image/png": "[encoded data removed]",
      "text/plain": [
       "<Figure size 432x288 with 1 Axes>"
      ]
     },
     "metadata": {
      "needs_background": "light"
     },
     "output_type": "display_data"
    }
   ],
   "source": [
    "plt.hist(bins2, bins=np.arange(bins2.min(), bins2.max()+2)-0.5, color='r')\n",
    "plt.suptitle(lane2 + \":\" + str(width2.values[0]), fontsize=20)"
   ]
  },
  {
   "cell_type": "code",
   "execution_count": 15,
   "metadata": {},
   "outputs": [
    {
     "data": {
      "text/plain": [
       "Text(0.5, 0.98, 'Two Way:3.0')"
      ]
     },
     "execution_count": 15,
     "metadata": {},
     "output_type": "execute_result"
    },
    {
     "data": {
      "image/png": "[encoded data removed]",
      "text/plain": [
       "<Figure size 432x288 with 1 Axes>"
      ]
     },
     "metadata": {
      "needs_background": "light"
     },
     "output_type": "display_data"
    }
   ],
   "source": [
    "plt.hist(bins3, bins=np.arange(bins3.min(), bins3.max()+2)-0.5, color='b')\n",
    "plt.suptitle(lane3 + \":\" + str(width3.values[0]), fontsize=20)"
   ]
  },
  {
   "cell_type": "code",
   "execution_count": null,
   "metadata": {},
   "outputs": [],
   "source": []
  }
 ],
 "metadata": {
  "kernelspec": {
   "display_name": "Python 3",
   "language": "python",
   "name": "python3"
  },
  "language_info": {
   "codemirror_mode": {
    "name": "ipython",
    "version": 3
   },
   "file_extension": ".py",
   "mimetype": "text/x-python",
   "name": "python",
   "nbconvert_exporter": "python",
   "pygments_lexer": "ipython3",
   "version": "3.7.1"
  }
 },
 "nbformat": 4,
 "nbformat_minor": 2
}
